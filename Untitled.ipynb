{
 "cells": [
  {
   "cell_type": "code",
   "execution_count": null,
   "metadata": {},
   "outputs": [],
   "source": [
    "import numpy as np\n",
    "import matplotlib.pyplot as plt\n",
    "from skimage.morphology import skeletonize\n",
    "%matplotlib inline\n",
    "\n",
    "width, height = 1600, 1200\n",
    "scale = 9 / np.sqrt(width * height)\n",
    "y, x = np.ogrid[-height + 1 : height : 2, -width - 1 : width : 2]\n",
    "z = ((x + y * 1j) * scale) ** (3 / 2) / (14 + 4j)\n",
    "w = (10 - 3j) / (2 * np.pi) * np.log((z + 1) / (z - 1)) + 1 / 2\n",
    "dist = np.minimum(np.abs(w.real - np.round(w.real)), np.abs(w.imag - np.round(w.imag)))\n",
    "im = (dist < 0.04).astype(np.uint8)\n",
    "plt.imshow(im)\n",
    "skeleton = skeletonize(im,method='lee')"
   ]
  },
  {
   "cell_type": "code",
   "execution_count": null,
   "metadata": {},
   "outputs": [],
   "source": [
    "\n",
    "\n",
    "data = geometry.MultiLineString([\n",
    "    [(0, 0), (10, 0), (10, 5), (20, 5)], \n",
    "    [(5, 0), (20, 0), (20, 5), (10, 5), (0, 5)]\n",
    "])\n",
    "data"
   ]
  },
  {
   "cell_type": "code",
   "execution_count": null,
   "metadata": {},
   "outputs": [],
   "source": [
    "import topojson as tp\n",
    "from shapely import geometry\n",
    "\n",
    "circle = geometry.Point(0, 0).buffer(1)\n",
    "circle"
   ]
  },
  {
   "cell_type": "code",
   "execution_count": null,
   "metadata": {},
   "outputs": [],
   "source": [
    "tp.Topology(\n",
    "    circle, \n",
    "    toposimplify=2,\n",
    "    prevent_oversimplify=False\n",
    ").to_svg()"
   ]
  },
  {
   "cell_type": "code",
   "execution_count": null,
   "metadata": {},
   "outputs": [],
   "source": [
    "tp.Topology(\n",
    "    circle, \n",
    "    toposimplify=2,\n",
    "    prevent_oversimplify=True\n",
    ").to_svg()"
   ]
  },
  {
   "cell_type": "code",
   "execution_count": null,
   "metadata": {},
   "outputs": [],
   "source": [
    "tp.Topology(\n",
    "    data, \n",
    "    shared_coords=False, \n",
    "    prequantize=False\n",
    ").to_svg(separate=True)"
   ]
  },
  {
   "cell_type": "code",
   "execution_count": null,
   "metadata": {},
   "outputs": [],
   "source": [
    "t.output#.to_svg(separate=True, include_junctions=False)"
   ]
  },
  {
   "cell_type": "code",
   "execution_count": 44,
   "metadata": {},
   "outputs": [
    {
     "data": {
      "text/html": [
       "\n",
       "<div id=\"altair-viz-6191ccb992e54293a8bef37e8faa5ca5\"></div>\n",
       "<script type=\"text/javascript\">\n",
       "  (function(spec, embedOpt){\n",
       "    let outputDiv = document.currentScript.previousElementSibling;\n",
       "    if (outputDiv.id !== \"altair-viz-6191ccb992e54293a8bef37e8faa5ca5\") {\n",
       "      outputDiv = document.getElementById(\"altair-viz-6191ccb992e54293a8bef37e8faa5ca5\");\n",
       "    }\n",
       "    const paths = {\n",
       "      \"vega\": \"https://cdn.jsdelivr.net/npm//vega@5?noext\",\n",
       "      \"vega-lib\": \"https://cdn.jsdelivr.net/npm//vega-lib?noext\",\n",
       "      \"vega-lite\": \"https://cdn.jsdelivr.net/npm//vega-lite@4.8.1?noext\",\n",
       "      \"vega-embed\": \"https://cdn.jsdelivr.net/npm//vega-embed@6?noext\",\n",
       "    };\n",
       "\n",
       "    function loadScript(lib) {\n",
       "      return new Promise(function(resolve, reject) {\n",
       "        var s = document.createElement('script');\n",
       "        s.src = paths[lib];\n",
       "        s.async = true;\n",
       "        s.onload = () => resolve(paths[lib]);\n",
       "        s.onerror = () => reject(`Error loading script: ${paths[lib]}`);\n",
       "        document.getElementsByTagName(\"head\")[0].appendChild(s);\n",
       "      });\n",
       "    }\n",
       "\n",
       "    function showError(err) {\n",
       "      outputDiv.innerHTML = `<div class=\"error\" style=\"color:red;\">${err}</div>`;\n",
       "      throw err;\n",
       "    }\n",
       "\n",
       "    function displayChart(vegaEmbed) {\n",
       "      vegaEmbed(outputDiv, spec, embedOpt)\n",
       "        .catch(err => showError(`Javascript Error: ${err.message}<br>This usually means there's a typo in your chart specification. See the javascript console for the full traceback.`));\n",
       "    }\n",
       "\n",
       "    if(typeof define === \"function\" && define.amd) {\n",
       "      requirejs.config({paths});\n",
       "      require([\"vega-embed\"], displayChart, err => showError(`Error loading script: ${err.message}`));\n",
       "    } else if (typeof vegaEmbed === \"function\") {\n",
       "      displayChart(vegaEmbed);\n",
       "    } else {\n",
       "      loadScript(\"vega\")\n",
       "        .then(() => loadScript(\"vega-lite\"))\n",
       "        .then(() => loadScript(\"vega-embed\"))\n",
       "        .catch(showError)\n",
       "        .then(() => displayChart(vegaEmbed));\n",
       "    }\n",
       "  })({\"config\": {\"view\": {\"continuousWidth\": 400, \"continuousHeight\": 300}}, \"data\": {\"name\": \"data-e85367396b3c50716c8f88d85adc7859\", \"format\": {\"mesh\": \"data\", \"type\": \"topojson\"}}, \"mark\": {\"type\": \"geoshape\", \"filled\": false}, \"projection\": {\"reflectY\": true, \"type\": \"identity\"}, \"title\": \"Douglas-Peucker (package simplification)\", \"width\": 300, \"$schema\": \"https://vega.github.io/schema/vega-lite/v4.8.1.json\", \"datasets\": {\"data-e85367396b3c50716c8f88d85adc7859\": {\"type\": \"Topology\", \"objects\": {\"data\": {\"geometries\": [{\"id\": \"1\", \"type\": \"Polygon\", \"properties\": {\"continent\": \"Africa\", \"gdp_md_est\": 150600.0, \"iso_a3\": \"TZA\", \"name\": \"Tanzania\", \"pop_est\": 53950935}, \"bbox\": [29.339997592900346, -11.720938002166735, 40.31659000000002, -0.9500000000000001], \"arcs\": [[-5, 0, -85, -83, -78, -2, -102, -142, -139]]}, {\"id\": \"2\", \"type\": \"Polygon\", \"properties\": {\"continent\": \"Africa\", \"gdp_md_est\": 906.5, \"iso_a3\": \"ESH\", \"name\": \"W. Sahara\", \"pop_est\": 603253}, \"bbox\": [-17.06342322434257, 20.999752102130827, -8.665124477564191, 27.656425889592356], \"arcs\": [[-23, -22, -21, 20, -117, -116]]}, {\"id\": \"11\", \"type\": \"Polygon\", \"properties\": {\"continent\": \"Africa\", \"gdp_md_est\": 66010.0, \"iso_a3\": \"COD\", \"name\": \"Dem. Rep. Congo\", \"pop_est\": 83301151}, \"bbox\": [12.182336866920252, -13.257226657771831, 31.174149204235817, 5.256087754737123], \"arcs\": [[1, -82, -81, -97, 2, -94, -68, -64, -146, -140, -144, -103]]}, {\"id\": \"12\", \"type\": \"Polygon\", \"properties\": {\"continent\": \"Africa\", \"gdp_md_est\": 4719.0, \"iso_a3\": \"SOM\", \"name\": \"Somalia\", \"pop_est\": 7531386}, \"bbox\": [40.98105, -1.6832500000000001, 51.13387, 12.024640000000002], \"arcs\": [[-6, -128, -135, 3]]}, {\"id\": \"13\", \"type\": \"Polygon\", \"properties\": {\"continent\": \"Africa\", \"gdp_md_est\": 152700.0, \"iso_a3\": \"KEN\", \"name\": \"Kenya\", \"pop_est\": 47615739}, \"bbox\": [33.893568969666944, -4.67677, 41.85508309264397, 5.506], \"arcs\": [[4, -141, -152, -129, 5, 6]]}, {\"id\": \"14\", \"type\": \"Polygon\", \"properties\": {\"continent\": \"Africa\", \"gdp_md_est\": 176300.0, \"iso_a3\": \"SDN\", \"name\": \"Sudan\", \"pop_est\": 37345935}, \"bbox\": [21.93680999999998, 8.229187933785468, 38.410089959473225, 22.0], \"arcs\": [[147, -67, -9, -121, -119, 7, -113, -130, 149, -150, -149, -148]]}, {\"id\": \"15\", \"type\": \"Polygon\", \"properties\": {\"continent\": \"Africa\", \"gdp_md_est\": 30590.0, \"iso_a3\": \"TCD\", \"name\": \"Chad\", \"pop_est\": 12075985}, \"bbox\": [13.540393507550789, 7.421924546737969, 23.886890000000108, 23.409719999999993], \"arcs\": [[8, -66, -34, -28, -122]]}, {\"id\": \"25\", \"type\": \"Polygon\", \"properties\": {\"continent\": \"Africa\", \"gdp_md_est\": 739100.0, \"iso_a3\": \"ZAF\", \"name\": \"South Africa\", \"pop_est\": 54841552}, \"bbox\": [16.344976840895242, -34.81916635512371, 32.830120477028885, -22.091312758067588], \"arcs\": [[-15, -13, -12, -88, -92, -87, 9], [10]]}, {\"id\": \"26\", \"type\": \"Polygon\", \"properties\": {\"continent\": \"Africa\", \"gdp_md_est\": 6019.0, \"iso_a3\": \"LSO\", \"name\": \"Lesotho\", \"pop_est\": 1958042}, \"bbox\": [26.999261915807637, -30.645105889612225, 29.32516645683259, -28.64750172293757], \"arcs\": [[10]]}, {\"id\": \"48\", \"type\": \"Polygon\", \"properties\": {\"continent\": \"Africa\", \"gdp_md_est\": 28330.0, \"iso_a3\": \"ZWE\", \"name\": \"Zimbabwe\", \"pop_est\": 13805084}, \"bbox\": [25.264225701608012, -22.271611830333935, 32.84986087416439, -15.507786960515213], \"arcs\": [[11, -14, -79, -89]]}, {\"id\": \"49\", \"type\": \"Polygon\", \"properties\": {\"continent\": \"Africa\", \"gdp_md_est\": 35900.0, \"iso_a3\": \"BWA\", \"name\": \"Botswana\", \"pop_est\": 2214858}, \"bbox\": [19.89545779794068, -26.828542982695915, 29.43218834810904, -17.661815687737374], \"arcs\": [[12, -17, 13]]}, {\"id\": \"50\", \"type\": \"Polygon\", \"properties\": {\"continent\": \"Africa\", \"gdp_md_est\": 25990.0, \"iso_a3\": \"NAM\", \"name\": \"Namibia\", \"pop_est\": 2484780}, \"bbox\": [11.734198846085121, -29.04546192801728, 25.08444339366457, -16.94134286872407], \"arcs\": [[14, 15, -100, -80, 16]]}, {\"id\": \"51\", \"type\": \"Polygon\", \"properties\": {\"continent\": \"Africa\", \"gdp_md_est\": 39720.0, \"iso_a3\": \"SEN\", \"name\": \"Senegal\", \"pop_est\": 14668522}, \"bbox\": [-17.62504269049066, 12.332089952031057, -11.467899135778524, 16.59826365810281], \"arcs\": [[17, -25, -20, -45, -49, 18, -105]]}, {\"id\": \"52\", \"type\": \"Polygon\", \"properties\": {\"continent\": \"Africa\", \"gdp_md_est\": 38090.0, \"iso_a3\": \"MLI\", \"name\": \"Mali\", \"pop_est\": 17885245}, \"bbox\": [-12.170750291380301, 10.096360785355444, 4.2702099951438015, 24.974574082941], \"arcs\": [[19, -24, -111, -30, -58, -42, -46]]}, {\"id\": \"53\", \"type\": \"Polygon\", \"properties\": {\"continent\": \"Africa\", \"gdp_md_est\": 16710.0, \"iso_a3\": \"MRT\", \"name\": \"Mauritania\", \"pop_est\": 3758571}, \"bbox\": [-17.06342322434257, 14.616834214735505, -4.923337368174231, 27.395744126896005], \"arcs\": [[20, 21, 22, -112, 23, 24, 25]]}, {\"id\": \"54\", \"type\": \"Polygon\", \"properties\": {\"continent\": \"Africa\", \"gdp_md_est\": 24310.0, \"iso_a3\": \"BEN\", \"name\": \"Benin\", \"pop_est\": 11038805}, \"bbox\": [0.7723356461714843, 6.142157701029731, 3.7971122575117136, 12.23563589115821], \"arcs\": [[26, -38, -60, -29, -31]]}, {\"id\": \"55\", \"type\": \"Polygon\", \"properties\": {\"continent\": \"Africa\", \"gdp_md_est\": 20150.0, \"iso_a3\": \"NER\", \"name\": \"Niger\", \"pop_est\": 19245344}, \"bbox\": [0.29564639649510127, 11.660167141155968, 15.903246697664315, 23.47166840259645], \"arcs\": [[27, -37, -32, 28, -59, 29, -110, -123]]}, {\"id\": \"56\", \"type\": \"Polygon\", \"properties\": {\"continent\": \"Africa\", \"gdp_md_est\": 1089000.0, \"iso_a3\": \"NGA\", \"name\": \"Nigeria\", \"pop_est\": 190632261}, \"bbox\": [2.6917016943562544, 4.240594183769517, 14.577177768622533, 13.865923977102227], \"arcs\": [[30, 31, -36, 32]]}, {\"id\": \"57\", \"type\": \"Polygon\", \"properties\": {\"continent\": \"Africa\", \"gdp_md_est\": 77240.0, \"iso_a3\": \"CMR\", \"name\": \"Cameroon\", \"pop_est\": 24994885}, \"bbox\": [8.48881554529089, 1.7276726342802957, 16.012852410555354, 12.85939626713733], \"arcs\": [[33, -65, -70, -72, -75, 34, 35, 36]]}, {\"id\": \"58\", \"type\": \"Polygon\", \"properties\": {\"continent\": \"Africa\", \"gdp_md_est\": 11610.0, \"iso_a3\": \"TGO\", \"name\": \"Togo\", \"pop_est\": 7965055}, \"bbox\": [-0.04978471515994442, 5.928837388528876, 1.8652405127123188, 11.018681748900804], \"arcs\": [[37, 38, -40, -61]]}, {\"id\": \"59\", \"type\": \"Polygon\", \"properties\": {\"continent\": \"Africa\", \"gdp_md_est\": 120800.0, \"iso_a3\": \"GHA\", \"name\": \"Ghana\", \"pop_est\": 27499924}, \"bbox\": [-3.244370083011262, 4.710462144383371, 1.0601216976049272, 11.098340969278722], \"arcs\": [[39, 40, -43, -62]]}, {\"id\": \"60\", \"type\": \"Polygon\", \"properties\": {\"continent\": \"Africa\", \"gdp_md_est\": 87120.0, \"iso_a3\": \"CIV\", \"name\": \"C\\u00f4te d'Ivoire\", \"pop_est\": 24184810}, \"bbox\": [-8.60288021486862, 4.338288479017308, -2.562189500326241, 10.524060777219134], \"arcs\": [[41, -63, 42, 43, -52, -47]]}, {\"id\": \"61\", \"type\": \"Polygon\", \"properties\": {\"continent\": \"Africa\", \"gdp_md_est\": 16080.0, \"iso_a3\": \"GIN\", \"name\": \"Guinea\", \"pop_est\": 12413867}, \"bbox\": [-15.130311245168173, 7.309037380396376, -7.832100389019188, 12.586182969610194], \"arcs\": [[44, 45, 46, -54, -55, 47, -50]]}, {\"id\": \"62\", \"type\": \"Polygon\", \"properties\": {\"continent\": \"Africa\", \"gdp_md_est\": 2851.0, \"iso_a3\": \"GNB\", \"name\": \"Guinea-Bissau\", \"pop_est\": 1792338}, \"bbox\": [-16.677451951554573, 11.040411688679526, -13.700476040084325, 12.628170070847347], \"arcs\": [[48, 49, 50]]}, {\"id\": \"63\", \"type\": \"Polygon\", \"properties\": {\"continent\": \"Africa\", \"gdp_md_est\": 3881.0, \"iso_a3\": \"LBR\", \"name\": \"Liberia\", \"pop_est\": 4689021}, \"bbox\": [-11.438779466182055, 4.355755113131963, -7.539715135111763, 8.541055202666925], \"arcs\": [[51, 52, -56, 53]]}, {\"id\": \"64\", \"type\": \"Polygon\", \"properties\": {\"continent\": \"Africa\", \"gdp_md_est\": 10640.0, \"iso_a3\": \"SLE\", \"name\": \"Sierra Leone\", \"pop_est\": 6163195}, \"bbox\": [-13.246550258832515, 6.7859168563057475, -10.23009355309128, 10.046983954300558], \"arcs\": [[54, 55, 56]]}, {\"id\": \"65\", \"type\": \"Polygon\", \"properties\": {\"continent\": \"Africa\", \"gdp_md_est\": 32990.0, \"iso_a3\": \"BFA\", \"name\": \"Burkina Faso\", \"pop_est\": 20107509}, \"bbox\": [-5.470564947929006, 9.610834865757141, 2.177107781593776, 15.116157741755728], \"arcs\": [[57, 58, 59, 60, 61, 62]]}, {\"id\": \"66\", \"type\": \"Polygon\", \"properties\": {\"continent\": \"Africa\", \"gdp_md_est\": 3206.0, \"iso_a3\": \"CAF\", \"name\": \"Central African Rep.\", \"pop_est\": 5625118}, \"bbox\": [14.459407179429348, 2.267639675298085, 27.37422610851749, 11.142395127807546], \"arcs\": [[63, -71, 64, 65, 66, -148, -147]]}, {\"id\": \"67\", \"type\": \"Polygon\", \"properties\": {\"continent\": \"Africa\", \"gdp_md_est\": 30270.0, \"iso_a3\": \"COG\", \"name\": \"Congo\", \"pop_est\": 4954674}, \"bbox\": [11.093772820691925, -5.037986748884791, 18.45306521980993, 3.728196519379452], \"arcs\": [[67, -96, 68, -73, 69, 70]]}, {\"id\": \"68\", \"type\": \"Polygon\", \"properties\": {\"continent\": \"Africa\", \"gdp_md_est\": 35980.0, \"iso_a3\": \"GAB\", \"name\": \"Gabon\", \"pop_est\": 1772255}, \"bbox\": [8.79799563969317, -3.978826592630547, 14.425455763413595, 2.3267575138399934], \"arcs\": [[71, 72, 73, -76]]}, {\"id\": \"69\", \"type\": \"Polygon\", \"properties\": {\"continent\": \"Africa\", \"gdp_md_est\": 31770.0, \"iso_a3\": \"GNQ\", \"name\": \"Eq. Guinea\", \"pop_est\": 778358}, \"bbox\": [9.305613234096256, 1.010119533691494, 11.285078973036462, 2.2838660750377358], \"arcs\": [[74, 75, 76]]}, {\"id\": \"70\", \"type\": \"Polygon\", \"properties\": {\"continent\": \"Africa\", \"gdp_md_est\": 65170.0, \"iso_a3\": \"ZMB\", \"name\": \"Zambia\", \"pop_est\": 15972000}, \"bbox\": [21.887842644953874, -17.961228936436484, 33.48568769708359, -8.238256524288218], \"arcs\": [[77, -84, -90, 78, 79, -99, -98, 80, 81]]}, {\"id\": \"71\", \"type\": \"Polygon\", \"properties\": {\"continent\": \"Africa\", \"gdp_md_est\": 21200.0, \"iso_a3\": \"MWI\", \"name\": \"Malawi\", \"pop_est\": 19196246}, \"bbox\": [32.68816531752313, -16.801299737213093, 35.77190473810836, -9.23059905358906], \"arcs\": [[82, -91, 83]]}, {\"id\": \"72\", \"type\": \"Polygon\", \"properties\": {\"continent\": \"Africa\", \"gdp_md_est\": 35010.0, \"iso_a3\": \"MOZ\", \"name\": \"Mozambique\", \"pop_est\": 26573706}, \"bbox\": [30.17948123548183, -26.742191664336197, 40.775475294768995, -10.317096042525698], \"arcs\": [[84, 85, 86, -93, 87, 88, 89, 90]]}, {\"id\": \"73\", \"type\": \"Polygon\", \"properties\": {\"continent\": \"Africa\", \"gdp_md_est\": 11060.0, \"iso_a3\": \"SWZ\", \"name\": \"eSwatini\", \"pop_est\": 1467152}, \"bbox\": [30.67660851412964, -27.285879408478998, 32.07166548028107, -25.66019052500895], \"arcs\": [[91, 92]]}, {\"id\": \"74\", \"type\": \"MultiPolygon\", \"properties\": {\"continent\": \"Africa\", \"gdp_md_est\": 189000.0, \"iso_a3\": \"AGO\", \"name\": \"Angola\", \"pop_est\": 29310273}, \"bbox\": [11.64009606288161, -17.930636488519696, 24.079905226342845, -4.438023369976136], \"arcs\": [[[93, 94, 95]], [[96, 97, 98, 99, 100]]]}, {\"id\": \"75\", \"type\": \"Polygon\", \"properties\": {\"continent\": \"Africa\", \"gdp_md_est\": 7892.0, \"iso_a3\": \"BDI\", \"name\": \"Burundi\", \"pop_est\": 11466756}, \"bbox\": [29.024926385216787, -4.4999834122940925, 30.752240000000086, -2.348486830254238], \"arcs\": [[101, 102, -143]]}, {\"id\": \"78\", \"type\": \"Polygon\", \"properties\": {\"continent\": \"Africa\", \"gdp_md_est\": 36860.0, \"iso_a3\": \"MDG\", \"name\": \"Madagascar\", \"pop_est\": 25054161}, \"bbox\": [43.254187046081, -25.60143442149309, 50.47653689962553, -12.04055673589197], \"arcs\": [[103]]}, {\"id\": \"80\", \"type\": \"Polygon\", \"properties\": {\"continent\": \"Africa\", \"gdp_md_est\": 3387.0, \"iso_a3\": \"GMB\", \"name\": \"Gambia\", \"pop_est\": 2051363}, \"bbox\": [-16.841524624081273, 13.130284125211332, -13.844963344772408, 13.876491807505985], \"arcs\": [[104, 105]]}, {\"id\": \"81\", \"type\": \"Polygon\", \"properties\": {\"continent\": \"Africa\", \"gdp_md_est\": 130800.0, \"iso_a3\": \"TUN\", \"name\": \"Tunisia\", \"pop_est\": 11403800}, \"bbox\": [7.524481642292244, 30.307556057246188, 11.488787469131012, 37.349994411766545], \"arcs\": [[-109, 106, -125]]}, {\"id\": \"82\", \"type\": \"Polygon\", \"properties\": {\"continent\": \"Africa\", \"gdp_md_est\": 609400.0, \"iso_a3\": \"DZA\", \"name\": \"Algeria\", \"pop_est\": 40969443}, \"bbox\": [-8.684399786809053, 19.057364203360038, 11.999505649471613, 37.11838064223437], \"arcs\": [[-115, 107, 108, -124, 109, 110, 111]]}, {\"id\": \"154\", \"type\": \"Polygon\", \"properties\": {\"continent\": \"Africa\", \"gdp_md_est\": 9169.0, \"iso_a3\": \"ERI\", \"name\": \"Eritrea\", \"pop_est\": 5918919}, \"bbox\": [36.32321999999999, 12.455415757695675, 43.08122602720016, 17.998307399970315], \"arcs\": [[112, 113, -132, -131]]}, {\"id\": \"162\", \"type\": \"Polygon\", \"properties\": {\"continent\": \"Africa\", \"gdp_md_est\": 282800.0, \"iso_a3\": \"MAR\", \"name\": \"Morocco\", \"pop_est\": 33986655}, \"bbox\": [-17.02042843267577, 21.420734157796577, -1.1245511539663084, 35.75998810479399], \"arcs\": [[114, 115, 116, 117]]}, {\"id\": \"163\", \"type\": \"Polygon\", \"properties\": {\"continent\": \"Africa\", \"gdp_md_est\": 1105000.0, \"iso_a3\": \"EGY\", \"name\": \"Egypt\", \"pop_est\": 97041072}, \"bbox\": [24.70007, 22.0, 36.86622999999997, 31.58568], \"arcs\": [[118, -127, 119]]}, {\"id\": \"164\", \"type\": \"Polygon\", \"properties\": {\"continent\": \"Africa\", \"gdp_md_est\": 90890.0, \"iso_a3\": \"LBY\", \"name\": \"Libya\", \"pop_est\": 6653210}, \"bbox\": [9.319410841518163, 19.580470000000105, 25.16482, 33.13699575452324], \"arcs\": [[120, 121, 122, 123, 124, 125, 126]]}, {\"id\": \"165\", \"type\": \"Polygon\", \"properties\": {\"continent\": \"Africa\", \"gdp_md_est\": 174700.0, \"iso_a3\": \"ETH\", \"name\": \"Ethiopia\", \"pop_est\": 105350020}, \"bbox\": [32.954180000000065, 3.42206, 47.78942, 14.959430000000168], \"arcs\": [[127, 128, -151, -150, 129, 130, -134, -136]]}, {\"id\": \"166\", \"type\": \"Polygon\", \"properties\": {\"continent\": \"Africa\", \"gdp_md_est\": 3345.0, \"iso_a3\": \"DJI\", \"name\": \"Djibouti\", \"pop_est\": 865267}, \"bbox\": [41.66176000000013, 10.92687856693442, 43.31785241066467, 12.699638576707116], \"arcs\": [[131, 132, -137, 133]]}, {\"id\": \"167\", \"type\": \"Polygon\", \"properties\": {\"continent\": \"Africa\", \"gdp_md_est\": 12250.0, \"iso_a3\": \"-99\", \"name\": \"Somaliland\", \"pop_est\": 3500000}, \"bbox\": [42.55875999999995, 7.99688000000009, 48.94820641459347, 11.462039699748857], \"arcs\": [[134, 135, 136, 137]]}, {\"id\": \"168\", \"type\": \"Polygon\", \"properties\": {\"continent\": \"Africa\", \"gdp_md_est\": 84930.0, \"iso_a3\": \"UGA\", \"name\": \"Uganda\", \"pop_est\": 39570125}, \"bbox\": [29.579466180140884, -1.4433224422297855, 35.03599, 4.249884947362048], \"arcs\": [[138, -145, 139, -153, 140]]}, {\"id\": \"169\", \"type\": \"Polygon\", \"properties\": {\"continent\": \"Africa\", \"gdp_md_est\": 21970.0, \"iso_a3\": \"RWA\", \"name\": \"Rwanda\", \"pop_est\": 11901484}, \"bbox\": [29.024926385216787, -2.917857761246097, 30.816134881317712, -1.1346591121504161], \"arcs\": [[141, 142, 143, 144]]}, {\"id\": \"176\", \"type\": \"Polygon\", \"properties\": {\"continent\": \"Africa\", \"gdp_md_est\": 20880.0, \"iso_a3\": \"SSD\", \"name\": \"S. Sudan\", \"pop_est\": 13026129}, \"bbox\": [23.886979580860668, 3.5091716042224625, 35.29800711823298, 12.248007757149992], \"arcs\": [[145, 146, 147, 148, 149, 150, 151, 152]]}], \"type\": \"GeometryCollection\"}}, \"bbox\": [-17.62504269049066, -34.81916635512371, 51.13387, 37.349994411766545], \"transform\": {\"scale\": [0.34552217432407367, 0.36265909933110685], \"translate\": [-17.62504269049066, -34.81916635512371]}, \"arcs\": [[[164, 83], [4, -15]], [[136, 84], [4, -11]], [[87, 79], [-1, 1]], [[193, 127], [6, 2], [-7, -18], [-21, -20]], [[164, 83], [-15, 10]], [[172, 107], [-1, -16]], [[171, 91], [-7, -8]], [[158, 157], [4, -11]], [[120, 150], [0, -11], [-6, -8], [3, -4]], [[146, 22], [-16, -18], [-21, -4], [-5, 2], [-6, 15]], [[135, 16], [0, -3], [-6, 1], [6, 2]], [[141, 35], [-5, 0]], [[136, 35], [-22, -13], [-5, 6]], [[124, 47], [12, -12]], [[109, 28], [0, -10], [-11, -1]], [[98, 17], [-13, 31]], [[124, 47], [-12, -1], [-3, -18]], [[3, 133], [-3, 4], [3, 4]], [[3, 130], [-1, 2]], [[18, 130], [-2, 6]], [[2, 154], [0, 1]], [[2, 155], [12, 0], [2, 13]], [[16, 168], [10, -1], [0, 5]], [[37, 165], [-5, 0], [3, -26], [-19, -3]], [[16, 136], [-7, 6], [-6, -1]], [[3, 141], [-1, 13]], [[59, 113], [-3, 0]], [[94, 159], [3, -7], [-7, -16], [3, -5]], [[61, 128], [-4, 1]], [[52, 137], [10, 2], [1, 10]], [[59, 113], [2, 15]], [[61, 128], [3, 6], [13, -3], [12, 3], [3, -4]], [[76, 109], [-8, -1], [-9, 5]], [[93, 131], [3, -7], [-5, -2], [4, -6]], [[79, 102], [-3, 7]], [[76, 109], [2, 5], [7, 1], [7, 15]], [[92, 130], [1, 1]], [[54, 126], [2, -13]], [[56, 113], [-2, -1]], [[51, 126], [3, -14]], [[54, 112], [-11, -2]], [[28, 124], [7, 1]], [[43, 123], [0, -13]], [[43, 110], [-14, -2]], [[11, 131], [7, -1]], [[18, 130], [7, 0], [3, -6]], [[28, 124], [-1, -7]], [[13, 121], [-6, 5]], [[3, 130], [8, 1]], [[11, 131], [-4, -5]], [[7, 126], [-4, 4]], [[27, 117], [2, -9]], [[29, 108], [-11, 7]], [[21, 119], [6, -2]], [[13, 121], [6, 3], [2, -5]], [[21, 119], [-3, -4]], [[18, 115], [-5, 6]], [[35, 125], [4, 8], [13, 4]], [[52, 137], [5, -8]], [[57, 129], [-3, -3]], [[54, 126], [-3, 0]], [[51, 126], [-9, 0], [1, -3]], [[43, 123], [-8, 2]], [[130, 110], [-14, -3], [-9, 3], [-3, -4]], [[97, 102], [-4, 7], [2, 7]], [[95, 116], [22, 11]], [[117, 127], [3, -7]], [[104, 106], [-7, -21], [-8, -2]], [[85, 82], [-2, 3]], [[89, 102], [8, 0]], [[97, 102], [7, 4]], [[84, 102], [5, 0]], [[89, 102], [3, -13], [-5, 2], [-4, -6]], [[83, 85], [-7, 8], [2, 6]], [[79, 102], [5, 0]], [[84, 102], [-6, -3]], [[78, 99], [1, 3]], [[140, 73], [6, -2]], [[139, 53], [-15, -6]], [[124, 47], [-6, 1]], [[120, 66], [1, -1]], [[121, 65], [16, -6], [-4, 12], [7, 2]], [[146, 71], [5, -7]], [[147, 57], [-1, 14]], [[151, 64], [17, 4]], [[168, 68], [1, -13], [-17, -14], [2, -12], [-9, -4], [1, -3]], [[146, 22], [-2, 0]], [[143, 25], [-2, 10]], [[141, 35], [5, 5], [0, 10], [-7, 3]], [[139, 53], [8, 4]], [[147, 57], [5, -7], [3, 2], [-4, 12]], [[144, 22], [-4, 0], [3, 3]], [[143, 25], [1, -3]], [[89, 83], [-3, -3]], [[86, 80], [-1, 2]], [[85, 82], [4, 1]], [[87, 79], [11, 1], [4, -6], [12, 2], [1, -11], [5, 1]], [[120, 66], [1, -1]], [[121, 65], [0, -5], [-7, 0], [4, -12]], [[118, 48], [-33, 0]], [[85, 48], [6, 17], [-4, 14]], [[139, 89], [-3, -5]], [[136, 84], [-1, 4]], [[194, 62], [3, -9], [-8, -23], [-7, -5], [-6, 8], [2, 15], [16, 14]], [[3, 133], [8, 0], [-9, -1]], [[2, 132], [1, 1]], [[75, 198], [8, 0], [-3, -7], [4, -4]], [[45, 193], [30, 5]], [[75, 198], [-2, -10], [5, -8]], [[86, 161], [-23, -12]], [[63, 149], [-26, 16]], [[37, 165], [-11, 7]], [[156, 136], [6, 10]], [[162, 146], [14, -15]], [[45, 193], [3, -7], [-22, -10], [0, -4]], [[26, 172], [-10, -4]], [[16, 168], [-8, -13], [-6, 0]], [[2, 155], [6, 12], [13, 9], [5, 12], [8, 7], [11, -2]], [[158, 157], [-35, 0]], [[124, 183], [26, -1], [-1, -10], [-4, 6], [13, -21]], [[123, 157], [-3, -7]], [[120, 150], [-23, 11], [-3, -2]], [[94, 159], [-8, 2]], [[86, 161], [-8, 7], [0, 12]], [[78, 180], [6, 7]], [[84, 187], [22, -8], [7, 8], [11, -4]], [[124, 183], [-1, -26]], [[189, 118], [-17, -11]], [[172, 107], [-11, -1], [-8, 5]], [[149, 122], [7, 14]], [[156, 136], [8, 1], [10, -6]], [[174, 131], [2, 0]], [[176, 131], [0, -3]], [[175, 126], [-3, 0], [2, 5]], [[193, 127], [-4, -9]], [[189, 118], [-12, 3], [-2, 5]], [[175, 126], [1, 2]], [[176, 128], [3, -3], [14, 2]], [[149, 93], [-10, 0]], [[137, 92], [3, 14]], [[149, 108], [3, -7], [-3, -8]], [[139, 93], [0, -4]], [[139, 89], [-4, -1]], [[135, 88], [2, 4]], [[137, 92], [2, 1]], [[140, 106], [-10, 4]], [[130, 110], [-8, 9]], [[122, 119], [-2, 1]], [[120, 120], [6, 5], [16, -2], [4, 7], [3, -8]], [[149, 122], [0, -2]], [[149, 120], [-3, -3], [7, -6]], [[153, 111], [-4, -3]], [[149, 108], [-9, -2]]]}}}, {\"mode\": \"vega-lite\"});\n",
       "</script>"
      ],
      "text/plain": [
       "alt.Chart(...)"
      ]
     },
     "execution_count": 44,
     "metadata": {},
     "output_type": "execute_result"
    }
   ],
   "source": [
    "import topojson as tp\n",
    "data = tp.utils.example_data_africa()\n",
    "\n",
    "topo = tp.Topology(data, prequantize=200)\n",
    "\n",
    "# we visualize with the (optional!) package Altair,\n",
    "# since SVG rendering is too small for this example\n",
    "topo.toposimplify(\n",
    "    epsilon=1,\n",
    "    simplify_algorithm='dp', \n",
    "    simplify_with='simplification', \n",
    "    prevent_oversimplify=False\n",
    ").to_alt().properties(title='Douglas-Peucker (package simplification)')"
   ]
  },
  {
   "cell_type": "code",
   "execution_count": 45,
   "metadata": {},
   "outputs": [
    {
     "data": {
      "text/html": [
       "\n",
       "<div id=\"altair-viz-997999dca7974f0a8d481f433c2af6dd\"></div>\n",
       "<script type=\"text/javascript\">\n",
       "  (function(spec, embedOpt){\n",
       "    let outputDiv = document.currentScript.previousElementSibling;\n",
       "    if (outputDiv.id !== \"altair-viz-997999dca7974f0a8d481f433c2af6dd\") {\n",
       "      outputDiv = document.getElementById(\"altair-viz-997999dca7974f0a8d481f433c2af6dd\");\n",
       "    }\n",
       "    const paths = {\n",
       "      \"vega\": \"https://cdn.jsdelivr.net/npm//vega@5?noext\",\n",
       "      \"vega-lib\": \"https://cdn.jsdelivr.net/npm//vega-lib?noext\",\n",
       "      \"vega-lite\": \"https://cdn.jsdelivr.net/npm//vega-lite@4.8.1?noext\",\n",
       "      \"vega-embed\": \"https://cdn.jsdelivr.net/npm//vega-embed@6?noext\",\n",
       "    };\n",
       "\n",
       "    function loadScript(lib) {\n",
       "      return new Promise(function(resolve, reject) {\n",
       "        var s = document.createElement('script');\n",
       "        s.src = paths[lib];\n",
       "        s.async = true;\n",
       "        s.onload = () => resolve(paths[lib]);\n",
       "        s.onerror = () => reject(`Error loading script: ${paths[lib]}`);\n",
       "        document.getElementsByTagName(\"head\")[0].appendChild(s);\n",
       "      });\n",
       "    }\n",
       "\n",
       "    function showError(err) {\n",
       "      outputDiv.innerHTML = `<div class=\"error\" style=\"color:red;\">${err}</div>`;\n",
       "      throw err;\n",
       "    }\n",
       "\n",
       "    function displayChart(vegaEmbed) {\n",
       "      vegaEmbed(outputDiv, spec, embedOpt)\n",
       "        .catch(err => showError(`Javascript Error: ${err.message}<br>This usually means there's a typo in your chart specification. See the javascript console for the full traceback.`));\n",
       "    }\n",
       "\n",
       "    if(typeof define === \"function\" && define.amd) {\n",
       "      requirejs.config({paths});\n",
       "      require([\"vega-embed\"], displayChart, err => showError(`Error loading script: ${err.message}`));\n",
       "    } else if (typeof vegaEmbed === \"function\") {\n",
       "      displayChart(vegaEmbed);\n",
       "    } else {\n",
       "      loadScript(\"vega\")\n",
       "        .then(() => loadScript(\"vega-lite\"))\n",
       "        .then(() => loadScript(\"vega-embed\"))\n",
       "        .catch(showError)\n",
       "        .then(() => displayChart(vegaEmbed));\n",
       "    }\n",
       "  })({\"config\": {\"view\": {\"continuousWidth\": 400, \"continuousHeight\": 300}}, \"data\": {\"name\": \"data-208d7839ebba7cab448c3c57b2688dec\", \"format\": {\"mesh\": \"data\", \"type\": \"topojson\"}}, \"mark\": {\"type\": \"geoshape\", \"filled\": false}, \"projection\": {\"reflectY\": true, \"type\": \"identity\"}, \"title\": \"Visvalingam-Whyatt (package simplification)\", \"width\": 300, \"$schema\": \"https://vega.github.io/schema/vega-lite/v4.8.1.json\", \"datasets\": {\"data-208d7839ebba7cab448c3c57b2688dec\": {\"type\": \"Topology\", \"objects\": {\"data\": {\"geometries\": [{\"id\": \"1\", \"type\": \"Polygon\", \"properties\": {\"continent\": \"Africa\", \"gdp_md_est\": 150600.0, \"iso_a3\": \"TZA\", \"name\": \"Tanzania\", \"pop_est\": 53950935}, \"bbox\": [29.339997592900346, -11.720938002166735, 40.31659000000002, -0.9500000000000001], \"arcs\": [[-5, 0, -85, -83, -78, -2, -102, -142, -139]]}, {\"id\": \"2\", \"type\": \"Polygon\", \"properties\": {\"continent\": \"Africa\", \"gdp_md_est\": 906.5, \"iso_a3\": \"ESH\", \"name\": \"W. Sahara\", \"pop_est\": 603253}, \"bbox\": [-17.06342322434257, 20.999752102130827, -8.665124477564191, 27.656425889592356], \"arcs\": [[-23, -22, -21, 20, -117, -116]]}, {\"id\": \"11\", \"type\": \"Polygon\", \"properties\": {\"continent\": \"Africa\", \"gdp_md_est\": 66010.0, \"iso_a3\": \"COD\", \"name\": \"Dem. Rep. Congo\", \"pop_est\": 83301151}, \"bbox\": [12.182336866920252, -13.257226657771831, 31.174149204235817, 5.256087754737123], \"arcs\": [[1, -82, -81, -97, 2, -94, -68, -64, -146, -140, -144, -103]]}, {\"id\": \"12\", \"type\": \"Polygon\", \"properties\": {\"continent\": \"Africa\", \"gdp_md_est\": 4719.0, \"iso_a3\": \"SOM\", \"name\": \"Somalia\", \"pop_est\": 7531386}, \"bbox\": [40.98105, -1.6832500000000001, 51.13387, 12.024640000000002], \"arcs\": [[-6, -128, -135, 3]]}, {\"id\": \"13\", \"type\": \"Polygon\", \"properties\": {\"continent\": \"Africa\", \"gdp_md_est\": 152700.0, \"iso_a3\": \"KEN\", \"name\": \"Kenya\", \"pop_est\": 47615739}, \"bbox\": [33.893568969666944, -4.67677, 41.85508309264397, 5.506], \"arcs\": [[4, -141, -152, -129, 5, 6]]}, {\"id\": \"14\", \"type\": \"Polygon\", \"properties\": {\"continent\": \"Africa\", \"gdp_md_est\": 176300.0, \"iso_a3\": \"SDN\", \"name\": \"Sudan\", \"pop_est\": 37345935}, \"bbox\": [21.93680999999998, 8.229187933785468, 38.410089959473225, 22.0], \"arcs\": [[147, -67, -9, -121, -119, 7, -113, -130, 149, -150, -149, -148]]}, {\"id\": \"15\", \"type\": \"Polygon\", \"properties\": {\"continent\": \"Africa\", \"gdp_md_est\": 30590.0, \"iso_a3\": \"TCD\", \"name\": \"Chad\", \"pop_est\": 12075985}, \"bbox\": [13.540393507550789, 7.421924546737969, 23.886890000000108, 23.409719999999993], \"arcs\": [[8, -66, -34, -28, -122]]}, {\"id\": \"25\", \"type\": \"Polygon\", \"properties\": {\"continent\": \"Africa\", \"gdp_md_est\": 739100.0, \"iso_a3\": \"ZAF\", \"name\": \"South Africa\", \"pop_est\": 54841552}, \"bbox\": [16.344976840895242, -34.81916635512371, 32.830120477028885, -22.091312758067588], \"arcs\": [[-15, -13, -12, -88, -92, -87, 9], [10]]}, {\"id\": \"26\", \"type\": \"Polygon\", \"properties\": {\"continent\": \"Africa\", \"gdp_md_est\": 6019.0, \"iso_a3\": \"LSO\", \"name\": \"Lesotho\", \"pop_est\": 1958042}, \"bbox\": [26.999261915807637, -30.645105889612225, 29.32516645683259, -28.64750172293757], \"arcs\": [[10]]}, {\"id\": \"48\", \"type\": \"Polygon\", \"properties\": {\"continent\": \"Africa\", \"gdp_md_est\": 28330.0, \"iso_a3\": \"ZWE\", \"name\": \"Zimbabwe\", \"pop_est\": 13805084}, \"bbox\": [25.264225701608012, -22.271611830333935, 32.84986087416439, -15.507786960515213], \"arcs\": [[11, -14, -79, -89]]}, {\"id\": \"49\", \"type\": \"Polygon\", \"properties\": {\"continent\": \"Africa\", \"gdp_md_est\": 35900.0, \"iso_a3\": \"BWA\", \"name\": \"Botswana\", \"pop_est\": 2214858}, \"bbox\": [19.89545779794068, -26.828542982695915, 29.43218834810904, -17.661815687737374], \"arcs\": [[12, -17, 13]]}, {\"id\": \"50\", \"type\": \"Polygon\", \"properties\": {\"continent\": \"Africa\", \"gdp_md_est\": 25990.0, \"iso_a3\": \"NAM\", \"name\": \"Namibia\", \"pop_est\": 2484780}, \"bbox\": [11.734198846085121, -29.04546192801728, 25.08444339366457, -16.94134286872407], \"arcs\": [[14, 15, -100, -80, 16]]}, {\"id\": \"51\", \"type\": \"Polygon\", \"properties\": {\"continent\": \"Africa\", \"gdp_md_est\": 39720.0, \"iso_a3\": \"SEN\", \"name\": \"Senegal\", \"pop_est\": 14668522}, \"bbox\": [-17.62504269049066, 12.332089952031057, -11.467899135778524, 16.59826365810281], \"arcs\": [[17, -25, -20, -45, -49, 18, -105]]}, {\"id\": \"52\", \"type\": \"Polygon\", \"properties\": {\"continent\": \"Africa\", \"gdp_md_est\": 38090.0, \"iso_a3\": \"MLI\", \"name\": \"Mali\", \"pop_est\": 17885245}, \"bbox\": [-12.170750291380301, 10.096360785355444, 4.2702099951438015, 24.974574082941], \"arcs\": [[19, -24, -111, -30, -58, -42, -46]]}, {\"id\": \"53\", \"type\": \"Polygon\", \"properties\": {\"continent\": \"Africa\", \"gdp_md_est\": 16710.0, \"iso_a3\": \"MRT\", \"name\": \"Mauritania\", \"pop_est\": 3758571}, \"bbox\": [-17.06342322434257, 14.616834214735505, -4.923337368174231, 27.395744126896005], \"arcs\": [[20, 21, 22, -112, 23, 24, 25]]}, {\"id\": \"54\", \"type\": \"Polygon\", \"properties\": {\"continent\": \"Africa\", \"gdp_md_est\": 24310.0, \"iso_a3\": \"BEN\", \"name\": \"Benin\", \"pop_est\": 11038805}, \"bbox\": [0.7723356461714843, 6.142157701029731, 3.7971122575117136, 12.23563589115821], \"arcs\": [[26, -38, -60, -29, -31]]}, {\"id\": \"55\", \"type\": \"Polygon\", \"properties\": {\"continent\": \"Africa\", \"gdp_md_est\": 20150.0, \"iso_a3\": \"NER\", \"name\": \"Niger\", \"pop_est\": 19245344}, \"bbox\": [0.29564639649510127, 11.660167141155968, 15.903246697664315, 23.47166840259645], \"arcs\": [[27, -37, -32, 28, -59, 29, -110, -123]]}, {\"id\": \"56\", \"type\": \"Polygon\", \"properties\": {\"continent\": \"Africa\", \"gdp_md_est\": 1089000.0, \"iso_a3\": \"NGA\", \"name\": \"Nigeria\", \"pop_est\": 190632261}, \"bbox\": [2.6917016943562544, 4.240594183769517, 14.577177768622533, 13.865923977102227], \"arcs\": [[30, 31, -36, 32]]}, {\"id\": \"57\", \"type\": \"Polygon\", \"properties\": {\"continent\": \"Africa\", \"gdp_md_est\": 77240.0, \"iso_a3\": \"CMR\", \"name\": \"Cameroon\", \"pop_est\": 24994885}, \"bbox\": [8.48881554529089, 1.7276726342802957, 16.012852410555354, 12.85939626713733], \"arcs\": [[33, -65, -70, -72, -75, 34, 35, 36]]}, {\"id\": \"58\", \"type\": \"Polygon\", \"properties\": {\"continent\": \"Africa\", \"gdp_md_est\": 11610.0, \"iso_a3\": \"TGO\", \"name\": \"Togo\", \"pop_est\": 7965055}, \"bbox\": [-0.04978471515994442, 5.928837388528876, 1.8652405127123188, 11.018681748900804], \"arcs\": [[37, 38, -40, -61]]}, {\"id\": \"59\", \"type\": \"Polygon\", \"properties\": {\"continent\": \"Africa\", \"gdp_md_est\": 120800.0, \"iso_a3\": \"GHA\", \"name\": \"Ghana\", \"pop_est\": 27499924}, \"bbox\": [-3.244370083011262, 4.710462144383371, 1.0601216976049272, 11.098340969278722], \"arcs\": [[39, 40, -43, -62]]}, {\"id\": \"60\", \"type\": \"Polygon\", \"properties\": {\"continent\": \"Africa\", \"gdp_md_est\": 87120.0, \"iso_a3\": \"CIV\", \"name\": \"C\\u00f4te d'Ivoire\", \"pop_est\": 24184810}, \"bbox\": [-8.60288021486862, 4.338288479017308, -2.562189500326241, 10.524060777219134], \"arcs\": [[41, -63, 42, 43, -52, -47]]}, {\"id\": \"61\", \"type\": \"Polygon\", \"properties\": {\"continent\": \"Africa\", \"gdp_md_est\": 16080.0, \"iso_a3\": \"GIN\", \"name\": \"Guinea\", \"pop_est\": 12413867}, \"bbox\": [-15.130311245168173, 7.309037380396376, -7.832100389019188, 12.586182969610194], \"arcs\": [[44, 45, 46, -54, -55, 47, -50]]}, {\"id\": \"62\", \"type\": \"Polygon\", \"properties\": {\"continent\": \"Africa\", \"gdp_md_est\": 2851.0, \"iso_a3\": \"GNB\", \"name\": \"Guinea-Bissau\", \"pop_est\": 1792338}, \"bbox\": [-16.677451951554573, 11.040411688679526, -13.700476040084325, 12.628170070847347], \"arcs\": [[48, 49, 50]]}, {\"id\": \"63\", \"type\": \"Polygon\", \"properties\": {\"continent\": \"Africa\", \"gdp_md_est\": 3881.0, \"iso_a3\": \"LBR\", \"name\": \"Liberia\", \"pop_est\": 4689021}, \"bbox\": [-11.438779466182055, 4.355755113131963, -7.539715135111763, 8.541055202666925], \"arcs\": [[51, 52, -56, 53]]}, {\"id\": \"64\", \"type\": \"Polygon\", \"properties\": {\"continent\": \"Africa\", \"gdp_md_est\": 10640.0, \"iso_a3\": \"SLE\", \"name\": \"Sierra Leone\", \"pop_est\": 6163195}, \"bbox\": [-13.246550258832515, 6.7859168563057475, -10.23009355309128, 10.046983954300558], \"arcs\": [[54, 55, 56]]}, {\"id\": \"65\", \"type\": \"Polygon\", \"properties\": {\"continent\": \"Africa\", \"gdp_md_est\": 32990.0, \"iso_a3\": \"BFA\", \"name\": \"Burkina Faso\", \"pop_est\": 20107509}, \"bbox\": [-5.470564947929006, 9.610834865757141, 2.177107781593776, 15.116157741755728], \"arcs\": [[57, 58, 59, 60, 61, 62]]}, {\"id\": \"66\", \"type\": \"Polygon\", \"properties\": {\"continent\": \"Africa\", \"gdp_md_est\": 3206.0, \"iso_a3\": \"CAF\", \"name\": \"Central African Rep.\", \"pop_est\": 5625118}, \"bbox\": [14.459407179429348, 2.267639675298085, 27.37422610851749, 11.142395127807546], \"arcs\": [[63, -71, 64, 65, 66, -148, -147]]}, {\"id\": \"67\", \"type\": \"Polygon\", \"properties\": {\"continent\": \"Africa\", \"gdp_md_est\": 30270.0, \"iso_a3\": \"COG\", \"name\": \"Congo\", \"pop_est\": 4954674}, \"bbox\": [11.093772820691925, -5.037986748884791, 18.45306521980993, 3.728196519379452], \"arcs\": [[67, -96, 68, -73, 69, 70]]}, {\"id\": \"68\", \"type\": \"Polygon\", \"properties\": {\"continent\": \"Africa\", \"gdp_md_est\": 35980.0, \"iso_a3\": \"GAB\", \"name\": \"Gabon\", \"pop_est\": 1772255}, \"bbox\": [8.79799563969317, -3.978826592630547, 14.425455763413595, 2.3267575138399934], \"arcs\": [[71, 72, 73, -76]]}, {\"id\": \"69\", \"type\": \"Polygon\", \"properties\": {\"continent\": \"Africa\", \"gdp_md_est\": 31770.0, \"iso_a3\": \"GNQ\", \"name\": \"Eq. Guinea\", \"pop_est\": 778358}, \"bbox\": [9.305613234096256, 1.010119533691494, 11.285078973036462, 2.2838660750377358], \"arcs\": [[74, 75, 76]]}, {\"id\": \"70\", \"type\": \"Polygon\", \"properties\": {\"continent\": \"Africa\", \"gdp_md_est\": 65170.0, \"iso_a3\": \"ZMB\", \"name\": \"Zambia\", \"pop_est\": 15972000}, \"bbox\": [21.887842644953874, -17.961228936436484, 33.48568769708359, -8.238256524288218], \"arcs\": [[77, -84, -90, 78, 79, -99, -98, 80, 81]]}, {\"id\": \"71\", \"type\": \"Polygon\", \"properties\": {\"continent\": \"Africa\", \"gdp_md_est\": 21200.0, \"iso_a3\": \"MWI\", \"name\": \"Malawi\", \"pop_est\": 19196246}, \"bbox\": [32.68816531752313, -16.801299737213093, 35.77190473810836, -9.23059905358906], \"arcs\": [[82, -91, 83]]}, {\"id\": \"72\", \"type\": \"Polygon\", \"properties\": {\"continent\": \"Africa\", \"gdp_md_est\": 35010.0, \"iso_a3\": \"MOZ\", \"name\": \"Mozambique\", \"pop_est\": 26573706}, \"bbox\": [30.17948123548183, -26.742191664336197, 40.775475294768995, -10.317096042525698], \"arcs\": [[84, 85, 86, -93, 87, 88, 89, 90]]}, {\"id\": \"73\", \"type\": \"Polygon\", \"properties\": {\"continent\": \"Africa\", \"gdp_md_est\": 11060.0, \"iso_a3\": \"SWZ\", \"name\": \"eSwatini\", \"pop_est\": 1467152}, \"bbox\": [30.67660851412964, -27.285879408478998, 32.07166548028107, -25.66019052500895], \"arcs\": [[91, 92]]}, {\"id\": \"74\", \"type\": \"MultiPolygon\", \"properties\": {\"continent\": \"Africa\", \"gdp_md_est\": 189000.0, \"iso_a3\": \"AGO\", \"name\": \"Angola\", \"pop_est\": 29310273}, \"bbox\": [11.64009606288161, -17.930636488519696, 24.079905226342845, -4.438023369976136], \"arcs\": [[[93, 94, 95]], [[96, 97, 98, 99, 100]]]}, {\"id\": \"75\", \"type\": \"Polygon\", \"properties\": {\"continent\": \"Africa\", \"gdp_md_est\": 7892.0, \"iso_a3\": \"BDI\", \"name\": \"Burundi\", \"pop_est\": 11466756}, \"bbox\": [29.024926385216787, -4.4999834122940925, 30.752240000000086, -2.348486830254238], \"arcs\": [[101, 102, -143]]}, {\"id\": \"78\", \"type\": \"Polygon\", \"properties\": {\"continent\": \"Africa\", \"gdp_md_est\": 36860.0, \"iso_a3\": \"MDG\", \"name\": \"Madagascar\", \"pop_est\": 25054161}, \"bbox\": [43.254187046081, -25.60143442149309, 50.47653689962553, -12.04055673589197], \"arcs\": [[103]]}, {\"id\": \"80\", \"type\": \"Polygon\", \"properties\": {\"continent\": \"Africa\", \"gdp_md_est\": 3387.0, \"iso_a3\": \"GMB\", \"name\": \"Gambia\", \"pop_est\": 2051363}, \"bbox\": [-16.841524624081273, 13.130284125211332, -13.844963344772408, 13.876491807505985], \"arcs\": [[104, 105]]}, {\"id\": \"81\", \"type\": \"Polygon\", \"properties\": {\"continent\": \"Africa\", \"gdp_md_est\": 130800.0, \"iso_a3\": \"TUN\", \"name\": \"Tunisia\", \"pop_est\": 11403800}, \"bbox\": [7.524481642292244, 30.307556057246188, 11.488787469131012, 37.349994411766545], \"arcs\": [[-109, 106, -125]]}, {\"id\": \"82\", \"type\": \"Polygon\", \"properties\": {\"continent\": \"Africa\", \"gdp_md_est\": 609400.0, \"iso_a3\": \"DZA\", \"name\": \"Algeria\", \"pop_est\": 40969443}, \"bbox\": [-8.684399786809053, 19.057364203360038, 11.999505649471613, 37.11838064223437], \"arcs\": [[-115, 107, 108, -124, 109, 110, 111]]}, {\"id\": \"154\", \"type\": \"Polygon\", \"properties\": {\"continent\": \"Africa\", \"gdp_md_est\": 9169.0, \"iso_a3\": \"ERI\", \"name\": \"Eritrea\", \"pop_est\": 5918919}, \"bbox\": [36.32321999999999, 12.455415757695675, 43.08122602720016, 17.998307399970315], \"arcs\": [[112, 113, -132, -131]]}, {\"id\": \"162\", \"type\": \"Polygon\", \"properties\": {\"continent\": \"Africa\", \"gdp_md_est\": 282800.0, \"iso_a3\": \"MAR\", \"name\": \"Morocco\", \"pop_est\": 33986655}, \"bbox\": [-17.02042843267577, 21.420734157796577, -1.1245511539663084, 35.75998810479399], \"arcs\": [[114, 115, 116, 117]]}, {\"id\": \"163\", \"type\": \"Polygon\", \"properties\": {\"continent\": \"Africa\", \"gdp_md_est\": 1105000.0, \"iso_a3\": \"EGY\", \"name\": \"Egypt\", \"pop_est\": 97041072}, \"bbox\": [24.70007, 22.0, 36.86622999999997, 31.58568], \"arcs\": [[118, -127, 119]]}, {\"id\": \"164\", \"type\": \"Polygon\", \"properties\": {\"continent\": \"Africa\", \"gdp_md_est\": 90890.0, \"iso_a3\": \"LBY\", \"name\": \"Libya\", \"pop_est\": 6653210}, \"bbox\": [9.319410841518163, 19.580470000000105, 25.16482, 33.13699575452324], \"arcs\": [[120, 121, 122, 123, 124, 125, 126]]}, {\"id\": \"165\", \"type\": \"Polygon\", \"properties\": {\"continent\": \"Africa\", \"gdp_md_est\": 174700.0, \"iso_a3\": \"ETH\", \"name\": \"Ethiopia\", \"pop_est\": 105350020}, \"bbox\": [32.954180000000065, 3.42206, 47.78942, 14.959430000000168], \"arcs\": [[127, 128, -151, -150, 129, 130, -134, -136]]}, {\"id\": \"166\", \"type\": \"Polygon\", \"properties\": {\"continent\": \"Africa\", \"gdp_md_est\": 3345.0, \"iso_a3\": \"DJI\", \"name\": \"Djibouti\", \"pop_est\": 865267}, \"bbox\": [41.66176000000013, 10.92687856693442, 43.31785241066467, 12.699638576707116], \"arcs\": [[131, 132, -137, 133]]}, {\"id\": \"167\", \"type\": \"Polygon\", \"properties\": {\"continent\": \"Africa\", \"gdp_md_est\": 12250.0, \"iso_a3\": \"-99\", \"name\": \"Somaliland\", \"pop_est\": 3500000}, \"bbox\": [42.55875999999995, 7.99688000000009, 48.94820641459347, 11.462039699748857], \"arcs\": [[134, 135, 136, 137]]}, {\"id\": \"168\", \"type\": \"Polygon\", \"properties\": {\"continent\": \"Africa\", \"gdp_md_est\": 84930.0, \"iso_a3\": \"UGA\", \"name\": \"Uganda\", \"pop_est\": 39570125}, \"bbox\": [29.579466180140884, -1.4433224422297855, 35.03599, 4.249884947362048], \"arcs\": [[138, -145, 139, -153, 140]]}, {\"id\": \"169\", \"type\": \"Polygon\", \"properties\": {\"continent\": \"Africa\", \"gdp_md_est\": 21970.0, \"iso_a3\": \"RWA\", \"name\": \"Rwanda\", \"pop_est\": 11901484}, \"bbox\": [29.024926385216787, -2.917857761246097, 30.816134881317712, -1.1346591121504161], \"arcs\": [[141, 142, 143, 144]]}, {\"id\": \"176\", \"type\": \"Polygon\", \"properties\": {\"continent\": \"Africa\", \"gdp_md_est\": 20880.0, \"iso_a3\": \"SSD\", \"name\": \"S. Sudan\", \"pop_est\": 13026129}, \"bbox\": [23.886979580860668, 3.5091716042224625, 35.29800711823298, 12.248007757149992], \"arcs\": [[145, 146, 147, 148, 149, 150, 151, 152]]}], \"type\": \"GeometryCollection\"}}, \"bbox\": [-17.62504269049066, -34.81916635512371, 51.13387, 37.349994411766545], \"transform\": {\"scale\": [0.34552217432407367, 0.36265909933110685], \"translate\": [-17.62504269049066, -34.81916635512371]}, \"arcs\": [[[164, 83], [0, -10], [4, -5]], [[136, 84], [0, -4], [4, -7]], [[87, 79], [-1, 1]], [[193, 127], [6, 2], [-3, -11], [-10, -14], [-10, -7], [-5, -6]], [[164, 83], [-4, 4], [-11, 6]], [[172, 107], [-2, -3], [1, -13]], [[171, 91], [-7, -8]], [[158, 157], [1, -10], [3, -1]], [[120, 150], [0, -11], [-4, -2], [1, -10]], [[146, 22], [-1, -4], [-10, -11], [-9, -5], [-10, 1], [-7, -3], [-5, 2], [0, 7], [-6, 8]], [[135, 16], [0, -3], [-6, 1], [6, 2]], [[141, 35], [-5, 0]], [[136, 35], [-7, -4], [-6, -6], [-6, 1], [-6, -4], [-2, 6]], [[124, 47], [12, -12]], [[109, 28], [0, -10], [-3, -2], [-8, 1]], [[98, 17], [-4, 7], [-1, 10], [-8, 14]], [[124, 47], [-12, -1], [-1, -10], [-2, 0], [0, -8]], [[3, 133], [-3, 4], [3, 4]], [[3, 130], [-1, 2]], [[18, 130], [-2, 6]], [[2, 154], [0, 1]], [[2, 155], [12, 0], [2, 5], [0, 8]], [[16, 168], [10, -1], [0, 5]], [[37, 165], [-5, 0], [2, -12], [1, -14], [-17, 0], [-2, -3]], [[16, 136], [-7, 6], [-6, -1]], [[3, 141], [1, 10], [-2, 3]], [[59, 113], [-3, 0]], [[94, 159], [2, -8], [-1, -9], [-5, -6], [3, -5]], [[61, 128], [-4, 1]], [[52, 137], [10, 2], [1, 10]], [[59, 113], [0, 8], [2, 7]], [[61, 128], [1, 4], [5, 2], [10, -3], [3, 2], [12, -3]], [[76, 109], [-8, -1], [-4, 5], [-5, 0]], [[93, 131], [3, -7], [-5, -2], [4, -6]], [[79, 102], [-3, 7]], [[76, 109], [4, 6], [5, 0], [7, 15]], [[92, 130], [1, 1]], [[54, 126], [2, -5], [0, -8]], [[56, 113], [-2, -1]], [[51, 126], [3, -14]], [[54, 112], [-11, -2]], [[28, 124], [7, 1]], [[43, 123], [0, -13]], [[43, 110], [-9, 0], [-5, -2]], [[11, 131], [7, -1]], [[18, 130], [7, 0], [3, -6]], [[28, 124], [-1, -7]], [[13, 121], [-6, 5]], [[3, 130], [8, 1]], [[11, 131], [-4, -5]], [[7, 126], [-4, 4]], [[27, 117], [2, -9]], [[29, 108], [-4, 1], [-7, 6]], [[21, 119], [6, -2]], [[13, 121], [6, 3], [2, -5]], [[21, 119], [-3, -4]], [[18, 115], [-5, 6]], [[35, 125], [4, 8], [11, 5], [2, -1]], [[52, 137], [5, -8]], [[57, 129], [-3, -3]], [[54, 126], [-3, 0]], [[51, 126], [-9, 0], [1, -3]], [[43, 123], [-8, 2]], [[130, 110], [-5, 1], [-9, -4], [-9, 3], [-3, -4]], [[97, 102], [-4, 7], [2, 7]], [[95, 116], [8, 2], [2, 3], [7, 1], [5, 5]], [[117, 127], [3, -7]], [[104, 106], [-2, -12], [-4, -3], [-1, -6], [-4, -3], [-4, 1]], [[85, 82], [-2, 3]], [[89, 102], [8, 0]], [[97, 102], [7, 4]], [[84, 102], [5, 0]], [[89, 102], [3, -2], [0, -11], [-8, -1], [-1, -3]], [[83, 85], [-7, 8], [2, 6]], [[79, 102], [5, 0]], [[84, 102], [0, -3], [-6, 0]], [[78, 99], [1, 3]], [[140, 73], [6, -2]], [[139, 53], [-3, 0], [-8, -7], [-4, 1]], [[124, 47], [-6, 1]], [[120, 66], [1, -1]], [[121, 65], [4, 0], [12, -6], [-4, 4], [2, 10], [5, 0]], [[146, 71], [3, -1], [2, -6]], [[147, 57], [1, 10], [-2, 4]], [[151, 64], [8, 0], [9, 4]], [[168, 68], [1, -13], [-4, -5], [-6, -2], [-8, -9], [3, -4], [0, -6], [-9, -4], [1, -3]], [[146, 22], [-2, 0]], [[143, 25], [-2, 10]], [[141, 35], [5, 7], [0, 8], [-7, 3]], [[139, 53], [-1, 2], [9, 2]], [[147, 57], [4, -1], [1, -6], [3, 2], [-4, 7], [0, 5]], [[144, 22], [-1, 3]], [[143, 25], [1, -3]], [[89, 83], [-3, -3]], [[86, 80], [-1, 2]], [[85, 82], [4, 1]], [[87, 79], [11, 1], [2, -5], [14, 1], [1, -11], [5, 1]], [[120, 66], [1, -1]], [[121, 65], [0, -5], [-7, 0], [0, -8], [4, -4]], [[118, 48], [-33, 0]], [[85, 48], [2, 11], [4, 6], [-3, 6], [-1, 8]], [[139, 89], [-3, -5]], [[136, 84], [-1, 4]], [[194, 62], [2, -10], [-7, -22], [-7, -5], [-4, 2], [-2, 8], [4, 7], [-2, 6], [7, 4], [9, 10]], [[3, 133], [-1, -1]], [[2, 132], [1, 1]], [[75, 198], [8, 0], [-3, -7], [4, -4]], [[45, 193], [10, 4], [20, 1]], [[75, 198], [-2, -10], [4, -3], [1, -5]], [[86, 161], [-19, -11], [-4, -1]], [[63, 149], [-26, 16]], [[37, 165], [-11, 7]], [[156, 136], [1, 5], [5, 5]], [[162, 146], [3, -6], [11, -9]], [[45, 193], [2, -8], [-4, 0], [-3, -4], [-14, -5], [0, -4]], [[26, 172], [-10, -4]], [[16, 168], [-8, -13], [-6, 0]], [[2, 155], [6, 12], [6, 6], [7, 3], [3, 10], [7, 4], [3, 5], [11, -2]], [[158, 157], [-35, 0]], [[124, 183], [11, -2], [8, 2], [9, -5], [-3, -6], [-3, 3], [12, -18]], [[123, 157], [0, -6], [-3, -1]], [[120, 150], [-12, 5], [-11, 6], [-3, -2]], [[94, 159], [-8, 2]], [[86, 161], [-5, 2], [-3, 5], [2, 8], [-2, 4]], [[78, 180], [6, 7]], [[84, 187], [11, -2], [1, -2], [10, -4], [2, 5], [5, 3], [11, -4]], [[124, 183], [-1, -6], [0, -20]], [[189, 118], [-8, -8], [-9, -3]], [[172, 107], [-6, -2], [-5, 1], [-8, 5]], [[149, 122], [7, 11], [0, 3]], [[156, 136], [5, 1], [8, -2], [5, -4]], [[174, 131], [2, 0]], [[176, 131], [0, -3]], [[175, 126], [-1, 5]], [[193, 127], [0, -5], [-4, -4]], [[189, 118], [-12, 3], [-2, 5]], [[175, 126], [1, 2]], [[176, 128], [4, -3], [13, 2]], [[149, 93], [-10, 0]], [[137, 92], [0, 6], [4, 4], [-1, 4]], [[149, 108], [3, -7], [-3, -8]], [[139, 93], [0, -4]], [[139, 89], [-4, -1]], [[135, 88], [2, 4]], [[137, 92], [2, 1]], [[140, 106], [-3, 3], [-7, 1]], [[130, 110], [-8, 9]], [[122, 119], [-2, 1]], [[120, 120], [4, 4], [11, -2], [7, 1], [5, 7], [2, -8]], [[149, 122], [0, -2]], [[149, 120], [-1, -3], [5, -6]], [[153, 111], [-4, -3]], [[149, 108], [-1, -2], [-8, 0]]]}}}, {\"mode\": \"vega-lite\"});\n",
       "</script>"
      ],
      "text/plain": [
       "alt.Chart(...)"
      ]
     },
     "execution_count": 45,
     "metadata": {},
     "output_type": "execute_result"
    }
   ],
   "source": [
    "import topojson as tp\n",
    "data = tp.utils.example_data_africa()\n",
    "\n",
    "topo = tp.Topology(data, prequantize=200)\n",
    "\n",
    "# we visualize with the (optional!) package Altair,\n",
    "# since SVG rendering is too small for this example\n",
    "topo.toposimplify(\n",
    "    epsilon=1,\n",
    "    simplify_algorithm='vw', \n",
    "    simplify_with='simplification', \n",
    "    prevent_oversimplify=True\n",
    ").to_alt().properties(title='Visvalingam-Whyatt (package simplification)')"
   ]
  },
  {
   "cell_type": "code",
   "execution_count": 40,
   "metadata": {},
   "outputs": [
    {
     "data": {
      "text/html": [
       "\n",
       "<div id=\"altair-viz-971acd6819144854a79093c4c5bc4954\"></div>\n",
       "<script type=\"text/javascript\">\n",
       "  (function(spec, embedOpt){\n",
       "    let outputDiv = document.currentScript.previousElementSibling;\n",
       "    if (outputDiv.id !== \"altair-viz-971acd6819144854a79093c4c5bc4954\") {\n",
       "      outputDiv = document.getElementById(\"altair-viz-971acd6819144854a79093c4c5bc4954\");\n",
       "    }\n",
       "    const paths = {\n",
       "      \"vega\": \"https://cdn.jsdelivr.net/npm//vega@5?noext\",\n",
       "      \"vega-lib\": \"https://cdn.jsdelivr.net/npm//vega-lib?noext\",\n",
       "      \"vega-lite\": \"https://cdn.jsdelivr.net/npm//vega-lite@4.8.1?noext\",\n",
       "      \"vega-embed\": \"https://cdn.jsdelivr.net/npm//vega-embed@6?noext\",\n",
       "    };\n",
       "\n",
       "    function loadScript(lib) {\n",
       "      return new Promise(function(resolve, reject) {\n",
       "        var s = document.createElement('script');\n",
       "        s.src = paths[lib];\n",
       "        s.async = true;\n",
       "        s.onload = () => resolve(paths[lib]);\n",
       "        s.onerror = () => reject(`Error loading script: ${paths[lib]}`);\n",
       "        document.getElementsByTagName(\"head\")[0].appendChild(s);\n",
       "      });\n",
       "    }\n",
       "\n",
       "    function showError(err) {\n",
       "      outputDiv.innerHTML = `<div class=\"error\" style=\"color:red;\">${err}</div>`;\n",
       "      throw err;\n",
       "    }\n",
       "\n",
       "    function displayChart(vegaEmbed) {\n",
       "      vegaEmbed(outputDiv, spec, embedOpt)\n",
       "        .catch(err => showError(`Javascript Error: ${err.message}<br>This usually means there's a typo in your chart specification. See the javascript console for the full traceback.`));\n",
       "    }\n",
       "\n",
       "    if(typeof define === \"function\" && define.amd) {\n",
       "      requirejs.config({paths});\n",
       "      require([\"vega-embed\"], displayChart, err => showError(`Error loading script: ${err.message}`));\n",
       "    } else if (typeof vegaEmbed === \"function\") {\n",
       "      displayChart(vegaEmbed);\n",
       "    } else {\n",
       "      loadScript(\"vega\")\n",
       "        .then(() => loadScript(\"vega-lite\"))\n",
       "        .then(() => loadScript(\"vega-embed\"))\n",
       "        .catch(showError)\n",
       "        .then(() => displayChart(vegaEmbed));\n",
       "    }\n",
       "  })({\"config\": {\"view\": {\"continuousWidth\": 400, \"continuousHeight\": 300}}, \"data\": {\"name\": \"data-e85367396b3c50716c8f88d85adc7859\", \"format\": {\"mesh\": \"data\", \"type\": \"topojson\"}}, \"mark\": {\"type\": \"geoshape\", \"filled\": false}, \"projection\": {\"reflectY\": true, \"type\": \"identity\"}, \"title\": \"Douglas-Peucker (package simplification)\", \"width\": 300, \"$schema\": \"https://vega.github.io/schema/vega-lite/v4.8.1.json\", \"datasets\": {\"data-e85367396b3c50716c8f88d85adc7859\": {\"type\": \"Topology\", \"objects\": {\"data\": {\"geometries\": [{\"id\": \"1\", \"type\": \"Polygon\", \"properties\": {\"continent\": \"Africa\", \"gdp_md_est\": 150600.0, \"iso_a3\": \"TZA\", \"name\": \"Tanzania\", \"pop_est\": 53950935}, \"bbox\": [29.339997592900346, -11.720938002166735, 40.31659000000002, -0.9500000000000001], \"arcs\": [[-5, 0, -85, -83, -78, -2, -102, -142, -139]]}, {\"id\": \"2\", \"type\": \"Polygon\", \"properties\": {\"continent\": \"Africa\", \"gdp_md_est\": 906.5, \"iso_a3\": \"ESH\", \"name\": \"W. Sahara\", \"pop_est\": 603253}, \"bbox\": [-17.06342322434257, 20.999752102130827, -8.665124477564191, 27.656425889592356], \"arcs\": [[-23, -22, -21, 20, -117, -116]]}, {\"id\": \"11\", \"type\": \"Polygon\", \"properties\": {\"continent\": \"Africa\", \"gdp_md_est\": 66010.0, \"iso_a3\": \"COD\", \"name\": \"Dem. Rep. Congo\", \"pop_est\": 83301151}, \"bbox\": [12.182336866920252, -13.257226657771831, 31.174149204235817, 5.256087754737123], \"arcs\": [[1, -82, -81, -97, 2, -94, -68, -64, -146, -140, -144, -103]]}, {\"id\": \"12\", \"type\": \"Polygon\", \"properties\": {\"continent\": \"Africa\", \"gdp_md_est\": 4719.0, \"iso_a3\": \"SOM\", \"name\": \"Somalia\", \"pop_est\": 7531386}, \"bbox\": [40.98105, -1.6832500000000001, 51.13387, 12.024640000000002], \"arcs\": [[-6, -128, -135, 3]]}, {\"id\": \"13\", \"type\": \"Polygon\", \"properties\": {\"continent\": \"Africa\", \"gdp_md_est\": 152700.0, \"iso_a3\": \"KEN\", \"name\": \"Kenya\", \"pop_est\": 47615739}, \"bbox\": [33.893568969666944, -4.67677, 41.85508309264397, 5.506], \"arcs\": [[4, -141, -152, -129, 5, 6]]}, {\"id\": \"14\", \"type\": \"Polygon\", \"properties\": {\"continent\": \"Africa\", \"gdp_md_est\": 176300.0, \"iso_a3\": \"SDN\", \"name\": \"Sudan\", \"pop_est\": 37345935}, \"bbox\": [21.93680999999998, 8.229187933785468, 38.410089959473225, 22.0], \"arcs\": [[147, -67, -9, -121, -119, 7, -113, -130, 149, -150, -149, -148]]}, {\"id\": \"15\", \"type\": \"Polygon\", \"properties\": {\"continent\": \"Africa\", \"gdp_md_est\": 30590.0, \"iso_a3\": \"TCD\", \"name\": \"Chad\", \"pop_est\": 12075985}, \"bbox\": [13.540393507550789, 7.421924546737969, 23.886890000000108, 23.409719999999993], \"arcs\": [[8, -66, -34, -28, -122]]}, {\"id\": \"25\", \"type\": \"Polygon\", \"properties\": {\"continent\": \"Africa\", \"gdp_md_est\": 739100.0, \"iso_a3\": \"ZAF\", \"name\": \"South Africa\", \"pop_est\": 54841552}, \"bbox\": [16.344976840895242, -34.81916635512371, 32.830120477028885, -22.091312758067588], \"arcs\": [[-15, -13, -12, -88, -92, -87, 9], [10]]}, {\"id\": \"26\", \"type\": \"Polygon\", \"properties\": {\"continent\": \"Africa\", \"gdp_md_est\": 6019.0, \"iso_a3\": \"LSO\", \"name\": \"Lesotho\", \"pop_est\": 1958042}, \"bbox\": [26.999261915807637, -30.645105889612225, 29.32516645683259, -28.64750172293757], \"arcs\": [[10]]}, {\"id\": \"48\", \"type\": \"Polygon\", \"properties\": {\"continent\": \"Africa\", \"gdp_md_est\": 28330.0, \"iso_a3\": \"ZWE\", \"name\": \"Zimbabwe\", \"pop_est\": 13805084}, \"bbox\": [25.264225701608012, -22.271611830333935, 32.84986087416439, -15.507786960515213], \"arcs\": [[11, -14, -79, -89]]}, {\"id\": \"49\", \"type\": \"Polygon\", \"properties\": {\"continent\": \"Africa\", \"gdp_md_est\": 35900.0, \"iso_a3\": \"BWA\", \"name\": \"Botswana\", \"pop_est\": 2214858}, \"bbox\": [19.89545779794068, -26.828542982695915, 29.43218834810904, -17.661815687737374], \"arcs\": [[12, -17, 13]]}, {\"id\": \"50\", \"type\": \"Polygon\", \"properties\": {\"continent\": \"Africa\", \"gdp_md_est\": 25990.0, \"iso_a3\": \"NAM\", \"name\": \"Namibia\", \"pop_est\": 2484780}, \"bbox\": [11.734198846085121, -29.04546192801728, 25.08444339366457, -16.94134286872407], \"arcs\": [[14, 15, -100, -80, 16]]}, {\"id\": \"51\", \"type\": \"Polygon\", \"properties\": {\"continent\": \"Africa\", \"gdp_md_est\": 39720.0, \"iso_a3\": \"SEN\", \"name\": \"Senegal\", \"pop_est\": 14668522}, \"bbox\": [-17.62504269049066, 12.332089952031057, -11.467899135778524, 16.59826365810281], \"arcs\": [[17, -25, -20, -45, -49, 18, -105]]}, {\"id\": \"52\", \"type\": \"Polygon\", \"properties\": {\"continent\": \"Africa\", \"gdp_md_est\": 38090.0, \"iso_a3\": \"MLI\", \"name\": \"Mali\", \"pop_est\": 17885245}, \"bbox\": [-12.170750291380301, 10.096360785355444, 4.2702099951438015, 24.974574082941], \"arcs\": [[19, -24, -111, -30, -58, -42, -46]]}, {\"id\": \"53\", \"type\": \"Polygon\", \"properties\": {\"continent\": \"Africa\", \"gdp_md_est\": 16710.0, \"iso_a3\": \"MRT\", \"name\": \"Mauritania\", \"pop_est\": 3758571}, \"bbox\": [-17.06342322434257, 14.616834214735505, -4.923337368174231, 27.395744126896005], \"arcs\": [[20, 21, 22, -112, 23, 24, 25]]}, {\"id\": \"54\", \"type\": \"Polygon\", \"properties\": {\"continent\": \"Africa\", \"gdp_md_est\": 24310.0, \"iso_a3\": \"BEN\", \"name\": \"Benin\", \"pop_est\": 11038805}, \"bbox\": [0.7723356461714843, 6.142157701029731, 3.7971122575117136, 12.23563589115821], \"arcs\": [[26, -38, -60, -29, -31]]}, {\"id\": \"55\", \"type\": \"Polygon\", \"properties\": {\"continent\": \"Africa\", \"gdp_md_est\": 20150.0, \"iso_a3\": \"NER\", \"name\": \"Niger\", \"pop_est\": 19245344}, \"bbox\": [0.29564639649510127, 11.660167141155968, 15.903246697664315, 23.47166840259645], \"arcs\": [[27, -37, -32, 28, -59, 29, -110, -123]]}, {\"id\": \"56\", \"type\": \"Polygon\", \"properties\": {\"continent\": \"Africa\", \"gdp_md_est\": 1089000.0, \"iso_a3\": \"NGA\", \"name\": \"Nigeria\", \"pop_est\": 190632261}, \"bbox\": [2.6917016943562544, 4.240594183769517, 14.577177768622533, 13.865923977102227], \"arcs\": [[30, 31, -36, 32]]}, {\"id\": \"57\", \"type\": \"Polygon\", \"properties\": {\"continent\": \"Africa\", \"gdp_md_est\": 77240.0, \"iso_a3\": \"CMR\", \"name\": \"Cameroon\", \"pop_est\": 24994885}, \"bbox\": [8.48881554529089, 1.7276726342802957, 16.012852410555354, 12.85939626713733], \"arcs\": [[33, -65, -70, -72, -75, 34, 35, 36]]}, {\"id\": \"58\", \"type\": \"Polygon\", \"properties\": {\"continent\": \"Africa\", \"gdp_md_est\": 11610.0, \"iso_a3\": \"TGO\", \"name\": \"Togo\", \"pop_est\": 7965055}, \"bbox\": [-0.04978471515994442, 5.928837388528876, 1.8652405127123188, 11.018681748900804], \"arcs\": [[37, 38, -40, -61]]}, {\"id\": \"59\", \"type\": \"Polygon\", \"properties\": {\"continent\": \"Africa\", \"gdp_md_est\": 120800.0, \"iso_a3\": \"GHA\", \"name\": \"Ghana\", \"pop_est\": 27499924}, \"bbox\": [-3.244370083011262, 4.710462144383371, 1.0601216976049272, 11.098340969278722], \"arcs\": [[39, 40, -43, -62]]}, {\"id\": \"60\", \"type\": \"Polygon\", \"properties\": {\"continent\": \"Africa\", \"gdp_md_est\": 87120.0, \"iso_a3\": \"CIV\", \"name\": \"C\\u00f4te d'Ivoire\", \"pop_est\": 24184810}, \"bbox\": [-8.60288021486862, 4.338288479017308, -2.562189500326241, 10.524060777219134], \"arcs\": [[41, -63, 42, 43, -52, -47]]}, {\"id\": \"61\", \"type\": \"Polygon\", \"properties\": {\"continent\": \"Africa\", \"gdp_md_est\": 16080.0, \"iso_a3\": \"GIN\", \"name\": \"Guinea\", \"pop_est\": 12413867}, \"bbox\": [-15.130311245168173, 7.309037380396376, -7.832100389019188, 12.586182969610194], \"arcs\": [[44, 45, 46, -54, -55, 47, -50]]}, {\"id\": \"62\", \"type\": \"Polygon\", \"properties\": {\"continent\": \"Africa\", \"gdp_md_est\": 2851.0, \"iso_a3\": \"GNB\", \"name\": \"Guinea-Bissau\", \"pop_est\": 1792338}, \"bbox\": [-16.677451951554573, 11.040411688679526, -13.700476040084325, 12.628170070847347], \"arcs\": [[48, 49, 50]]}, {\"id\": \"63\", \"type\": \"Polygon\", \"properties\": {\"continent\": \"Africa\", \"gdp_md_est\": 3881.0, \"iso_a3\": \"LBR\", \"name\": \"Liberia\", \"pop_est\": 4689021}, \"bbox\": [-11.438779466182055, 4.355755113131963, -7.539715135111763, 8.541055202666925], \"arcs\": [[51, 52, -56, 53]]}, {\"id\": \"64\", \"type\": \"Polygon\", \"properties\": {\"continent\": \"Africa\", \"gdp_md_est\": 10640.0, \"iso_a3\": \"SLE\", \"name\": \"Sierra Leone\", \"pop_est\": 6163195}, \"bbox\": [-13.246550258832515, 6.7859168563057475, -10.23009355309128, 10.046983954300558], \"arcs\": [[54, 55, 56]]}, {\"id\": \"65\", \"type\": \"Polygon\", \"properties\": {\"continent\": \"Africa\", \"gdp_md_est\": 32990.0, \"iso_a3\": \"BFA\", \"name\": \"Burkina Faso\", \"pop_est\": 20107509}, \"bbox\": [-5.470564947929006, 9.610834865757141, 2.177107781593776, 15.116157741755728], \"arcs\": [[57, 58, 59, 60, 61, 62]]}, {\"id\": \"66\", \"type\": \"Polygon\", \"properties\": {\"continent\": \"Africa\", \"gdp_md_est\": 3206.0, \"iso_a3\": \"CAF\", \"name\": \"Central African Rep.\", \"pop_est\": 5625118}, \"bbox\": [14.459407179429348, 2.267639675298085, 27.37422610851749, 11.142395127807546], \"arcs\": [[63, -71, 64, 65, 66, -148, -147]]}, {\"id\": \"67\", \"type\": \"Polygon\", \"properties\": {\"continent\": \"Africa\", \"gdp_md_est\": 30270.0, \"iso_a3\": \"COG\", \"name\": \"Congo\", \"pop_est\": 4954674}, \"bbox\": [11.093772820691925, -5.037986748884791, 18.45306521980993, 3.728196519379452], \"arcs\": [[67, -96, 68, -73, 69, 70]]}, {\"id\": \"68\", \"type\": \"Polygon\", \"properties\": {\"continent\": \"Africa\", \"gdp_md_est\": 35980.0, \"iso_a3\": \"GAB\", \"name\": \"Gabon\", \"pop_est\": 1772255}, \"bbox\": [8.79799563969317, -3.978826592630547, 14.425455763413595, 2.3267575138399934], \"arcs\": [[71, 72, 73, -76]]}, {\"id\": \"69\", \"type\": \"Polygon\", \"properties\": {\"continent\": \"Africa\", \"gdp_md_est\": 31770.0, \"iso_a3\": \"GNQ\", \"name\": \"Eq. Guinea\", \"pop_est\": 778358}, \"bbox\": [9.305613234096256, 1.010119533691494, 11.285078973036462, 2.2838660750377358], \"arcs\": [[74, 75, 76]]}, {\"id\": \"70\", \"type\": \"Polygon\", \"properties\": {\"continent\": \"Africa\", \"gdp_md_est\": 65170.0, \"iso_a3\": \"ZMB\", \"name\": \"Zambia\", \"pop_est\": 15972000}, \"bbox\": [21.887842644953874, -17.961228936436484, 33.48568769708359, -8.238256524288218], \"arcs\": [[77, -84, -90, 78, 79, -99, -98, 80, 81]]}, {\"id\": \"71\", \"type\": \"Polygon\", \"properties\": {\"continent\": \"Africa\", \"gdp_md_est\": 21200.0, \"iso_a3\": \"MWI\", \"name\": \"Malawi\", \"pop_est\": 19196246}, \"bbox\": [32.68816531752313, -16.801299737213093, 35.77190473810836, -9.23059905358906], \"arcs\": [[82, -91, 83]]}, {\"id\": \"72\", \"type\": \"Polygon\", \"properties\": {\"continent\": \"Africa\", \"gdp_md_est\": 35010.0, \"iso_a3\": \"MOZ\", \"name\": \"Mozambique\", \"pop_est\": 26573706}, \"bbox\": [30.17948123548183, -26.742191664336197, 40.775475294768995, -10.317096042525698], \"arcs\": [[84, 85, 86, -93, 87, 88, 89, 90]]}, {\"id\": \"73\", \"type\": \"Polygon\", \"properties\": {\"continent\": \"Africa\", \"gdp_md_est\": 11060.0, \"iso_a3\": \"SWZ\", \"name\": \"eSwatini\", \"pop_est\": 1467152}, \"bbox\": [30.67660851412964, -27.285879408478998, 32.07166548028107, -25.66019052500895], \"arcs\": [[91, 92]]}, {\"id\": \"74\", \"type\": \"MultiPolygon\", \"properties\": {\"continent\": \"Africa\", \"gdp_md_est\": 189000.0, \"iso_a3\": \"AGO\", \"name\": \"Angola\", \"pop_est\": 29310273}, \"bbox\": [11.64009606288161, -17.930636488519696, 24.079905226342845, -4.438023369976136], \"arcs\": [[[93, 94, 95]], [[96, 97, 98, 99, 100]]]}, {\"id\": \"75\", \"type\": \"Polygon\", \"properties\": {\"continent\": \"Africa\", \"gdp_md_est\": 7892.0, \"iso_a3\": \"BDI\", \"name\": \"Burundi\", \"pop_est\": 11466756}, \"bbox\": [29.024926385216787, -4.4999834122940925, 30.752240000000086, -2.348486830254238], \"arcs\": [[101, 102, -143]]}, {\"id\": \"78\", \"type\": \"Polygon\", \"properties\": {\"continent\": \"Africa\", \"gdp_md_est\": 36860.0, \"iso_a3\": \"MDG\", \"name\": \"Madagascar\", \"pop_est\": 25054161}, \"bbox\": [43.254187046081, -25.60143442149309, 50.47653689962553, -12.04055673589197], \"arcs\": [[103]]}, {\"id\": \"80\", \"type\": \"Polygon\", \"properties\": {\"continent\": \"Africa\", \"gdp_md_est\": 3387.0, \"iso_a3\": \"GMB\", \"name\": \"Gambia\", \"pop_est\": 2051363}, \"bbox\": [-16.841524624081273, 13.130284125211332, -13.844963344772408, 13.876491807505985], \"arcs\": [[104, 105]]}, {\"id\": \"81\", \"type\": \"Polygon\", \"properties\": {\"continent\": \"Africa\", \"gdp_md_est\": 130800.0, \"iso_a3\": \"TUN\", \"name\": \"Tunisia\", \"pop_est\": 11403800}, \"bbox\": [7.524481642292244, 30.307556057246188, 11.488787469131012, 37.349994411766545], \"arcs\": [[-109, 106, -125]]}, {\"id\": \"82\", \"type\": \"Polygon\", \"properties\": {\"continent\": \"Africa\", \"gdp_md_est\": 609400.0, \"iso_a3\": \"DZA\", \"name\": \"Algeria\", \"pop_est\": 40969443}, \"bbox\": [-8.684399786809053, 19.057364203360038, 11.999505649471613, 37.11838064223437], \"arcs\": [[-115, 107, 108, -124, 109, 110, 111]]}, {\"id\": \"154\", \"type\": \"Polygon\", \"properties\": {\"continent\": \"Africa\", \"gdp_md_est\": 9169.0, \"iso_a3\": \"ERI\", \"name\": \"Eritrea\", \"pop_est\": 5918919}, \"bbox\": [36.32321999999999, 12.455415757695675, 43.08122602720016, 17.998307399970315], \"arcs\": [[112, 113, -132, -131]]}, {\"id\": \"162\", \"type\": \"Polygon\", \"properties\": {\"continent\": \"Africa\", \"gdp_md_est\": 282800.0, \"iso_a3\": \"MAR\", \"name\": \"Morocco\", \"pop_est\": 33986655}, \"bbox\": [-17.02042843267577, 21.420734157796577, -1.1245511539663084, 35.75998810479399], \"arcs\": [[114, 115, 116, 117]]}, {\"id\": \"163\", \"type\": \"Polygon\", \"properties\": {\"continent\": \"Africa\", \"gdp_md_est\": 1105000.0, \"iso_a3\": \"EGY\", \"name\": \"Egypt\", \"pop_est\": 97041072}, \"bbox\": [24.70007, 22.0, 36.86622999999997, 31.58568], \"arcs\": [[118, -127, 119]]}, {\"id\": \"164\", \"type\": \"Polygon\", \"properties\": {\"continent\": \"Africa\", \"gdp_md_est\": 90890.0, \"iso_a3\": \"LBY\", \"name\": \"Libya\", \"pop_est\": 6653210}, \"bbox\": [9.319410841518163, 19.580470000000105, 25.16482, 33.13699575452324], \"arcs\": [[120, 121, 122, 123, 124, 125, 126]]}, {\"id\": \"165\", \"type\": \"Polygon\", \"properties\": {\"continent\": \"Africa\", \"gdp_md_est\": 174700.0, \"iso_a3\": \"ETH\", \"name\": \"Ethiopia\", \"pop_est\": 105350020}, \"bbox\": [32.954180000000065, 3.42206, 47.78942, 14.959430000000168], \"arcs\": [[127, 128, -151, -150, 129, 130, -134, -136]]}, {\"id\": \"166\", \"type\": \"Polygon\", \"properties\": {\"continent\": \"Africa\", \"gdp_md_est\": 3345.0, \"iso_a3\": \"DJI\", \"name\": \"Djibouti\", \"pop_est\": 865267}, \"bbox\": [41.66176000000013, 10.92687856693442, 43.31785241066467, 12.699638576707116], \"arcs\": [[131, 132, -137, 133]]}, {\"id\": \"167\", \"type\": \"Polygon\", \"properties\": {\"continent\": \"Africa\", \"gdp_md_est\": 12250.0, \"iso_a3\": \"-99\", \"name\": \"Somaliland\", \"pop_est\": 3500000}, \"bbox\": [42.55875999999995, 7.99688000000009, 48.94820641459347, 11.462039699748857], \"arcs\": [[134, 135, 136, 137]]}, {\"id\": \"168\", \"type\": \"Polygon\", \"properties\": {\"continent\": \"Africa\", \"gdp_md_est\": 84930.0, \"iso_a3\": \"UGA\", \"name\": \"Uganda\", \"pop_est\": 39570125}, \"bbox\": [29.579466180140884, -1.4433224422297855, 35.03599, 4.249884947362048], \"arcs\": [[138, -145, 139, -153, 140]]}, {\"id\": \"169\", \"type\": \"Polygon\", \"properties\": {\"continent\": \"Africa\", \"gdp_md_est\": 21970.0, \"iso_a3\": \"RWA\", \"name\": \"Rwanda\", \"pop_est\": 11901484}, \"bbox\": [29.024926385216787, -2.917857761246097, 30.816134881317712, -1.1346591121504161], \"arcs\": [[141, 142, 143, 144]]}, {\"id\": \"176\", \"type\": \"Polygon\", \"properties\": {\"continent\": \"Africa\", \"gdp_md_est\": 20880.0, \"iso_a3\": \"SSD\", \"name\": \"S. Sudan\", \"pop_est\": 13026129}, \"bbox\": [23.886979580860668, 3.5091716042224625, 35.29800711823298, 12.248007757149992], \"arcs\": [[145, 146, 147, 148, 149, 150, 151, 152]]}], \"type\": \"GeometryCollection\"}}, \"bbox\": [-17.62504269049066, -34.81916635512371, 51.13387, 37.349994411766545], \"transform\": {\"scale\": [0.34552217432407367, 0.36265909933110685], \"translate\": [-17.62504269049066, -34.81916635512371]}, \"arcs\": [[[164, 83], [4, -15]], [[136, 84], [4, -11]], [[87, 79], [-1, 1]], [[193, 127], [6, 2], [-7, -18], [-21, -20]], [[164, 83], [-15, 10]], [[172, 107], [-1, -16]], [[171, 91], [-7, -8]], [[158, 157], [4, -11]], [[120, 150], [0, -11], [-6, -8], [3, -4]], [[146, 22], [-16, -18], [-21, -4], [-5, 2], [-6, 15]], [[135, 16], [0, -3], [-6, 1], [6, 2]], [[141, 35], [-5, 0]], [[136, 35], [-22, -13], [-5, 6]], [[124, 47], [12, -12]], [[109, 28], [0, -10], [-11, -1]], [[98, 17], [-13, 31]], [[124, 47], [-12, -1], [-3, -18]], [[3, 133], [-3, 4], [3, 4]], [[3, 130], [-1, 2]], [[18, 130], [-2, 6]], [[2, 154], [0, 1]], [[2, 155], [12, 0], [2, 13]], [[16, 168], [10, -1], [0, 5]], [[37, 165], [-5, 0], [3, -26], [-19, -3]], [[16, 136], [-7, 6], [-6, -1]], [[3, 141], [-1, 13]], [[59, 113], [-3, 0]], [[94, 159], [3, -7], [-7, -16], [3, -5]], [[61, 128], [-4, 1]], [[52, 137], [10, 2], [1, 10]], [[59, 113], [2, 15]], [[61, 128], [3, 6], [13, -3], [12, 3], [3, -4]], [[76, 109], [-8, -1], [-9, 5]], [[93, 131], [3, -7], [-5, -2], [4, -6]], [[79, 102], [-3, 7]], [[76, 109], [2, 5], [7, 1], [7, 15]], [[92, 130], [1, 1]], [[54, 126], [2, -13]], [[56, 113], [-2, -1]], [[51, 126], [3, -14]], [[54, 112], [-11, -2]], [[28, 124], [7, 1]], [[43, 123], [0, -13]], [[43, 110], [-14, -2]], [[11, 131], [7, -1]], [[18, 130], [7, 0], [3, -6]], [[28, 124], [-1, -7]], [[13, 121], [-6, 5]], [[3, 130], [8, 1]], [[11, 131], [-4, -5]], [[7, 126], [-4, 4]], [[27, 117], [2, -9]], [[29, 108], [-11, 7]], [[21, 119], [6, -2]], [[13, 121], [6, 3], [2, -5]], [[21, 119], [-3, -4]], [[18, 115], [-5, 6]], [[35, 125], [4, 8], [13, 4]], [[52, 137], [5, -8]], [[57, 129], [-3, -3]], [[54, 126], [-3, 0]], [[51, 126], [-9, 0], [1, -3]], [[43, 123], [-8, 2]], [[130, 110], [-14, -3], [-9, 3], [-3, -4]], [[97, 102], [-4, 7], [2, 7]], [[95, 116], [22, 11]], [[117, 127], [3, -7]], [[104, 106], [-7, -21], [-8, -2]], [[85, 82], [-2, 3]], [[89, 102], [8, 0]], [[97, 102], [7, 4]], [[84, 102], [5, 0]], [[89, 102], [3, -13], [-5, 2], [-4, -6]], [[83, 85], [-7, 8], [2, 6]], [[79, 102], [5, 0]], [[84, 102], [-6, -3]], [[78, 99], [1, 3]], [[140, 73], [6, -2]], [[139, 53], [-15, -6]], [[124, 47], [-6, 1]], [[120, 66], [1, -1]], [[121, 65], [16, -6], [-4, 12], [7, 2]], [[146, 71], [5, -7]], [[147, 57], [-1, 14]], [[151, 64], [17, 4]], [[168, 68], [1, -13], [-17, -14], [2, -12], [-9, -4], [1, -3]], [[146, 22], [-2, 0]], [[143, 25], [-2, 10]], [[141, 35], [5, 5], [0, 10], [-7, 3]], [[139, 53], [8, 4]], [[147, 57], [5, -7], [3, 2], [-4, 12]], [[144, 22], [-4, 0], [3, 3]], [[143, 25], [1, -3]], [[89, 83], [-3, -3]], [[86, 80], [-1, 2]], [[85, 82], [4, 1]], [[87, 79], [11, 1], [4, -6], [12, 2], [1, -11], [5, 1]], [[120, 66], [1, -1]], [[121, 65], [0, -5], [-7, 0], [4, -12]], [[118, 48], [-33, 0]], [[85, 48], [6, 17], [-4, 14]], [[139, 89], [-3, -5]], [[136, 84], [-1, 4]], [[194, 62], [3, -9], [-8, -23], [-7, -5], [-6, 8], [2, 15], [16, 14]], [[3, 133], [8, 0], [-9, -1]], [[2, 132], [1, 1]], [[75, 198], [8, 0], [-3, -7], [4, -4]], [[45, 193], [30, 5]], [[75, 198], [-2, -10], [5, -8]], [[86, 161], [-23, -12]], [[63, 149], [-26, 16]], [[37, 165], [-11, 7]], [[156, 136], [6, 10]], [[162, 146], [14, -15]], [[45, 193], [3, -7], [-22, -10], [0, -4]], [[26, 172], [-10, -4]], [[16, 168], [-8, -13], [-6, 0]], [[2, 155], [6, 12], [13, 9], [5, 12], [8, 7], [11, -2]], [[158, 157], [-35, 0]], [[124, 183], [26, -1], [-1, -10], [-4, 6], [13, -21]], [[123, 157], [-3, -7]], [[120, 150], [-23, 11], [-3, -2]], [[94, 159], [-8, 2]], [[86, 161], [-8, 7], [0, 12]], [[78, 180], [6, 7]], [[84, 187], [22, -8], [7, 8], [11, -4]], [[124, 183], [-1, -26]], [[189, 118], [-17, -11]], [[172, 107], [-11, -1], [-8, 5]], [[149, 122], [7, 14]], [[156, 136], [8, 1], [10, -6]], [[174, 131], [2, 0]], [[176, 131], [0, -3]], [[175, 126], [-3, 0], [2, 5]], [[193, 127], [-4, -9]], [[189, 118], [-12, 3], [-2, 5]], [[175, 126], [1, 2]], [[176, 128], [3, -3], [14, 2]], [[149, 93], [-10, 0]], [[137, 92], [3, 14]], [[149, 108], [3, -7], [-3, -8]], [[139, 93], [0, -4]], [[139, 89], [-4, -1]], [[135, 88], [2, 4]], [[137, 92], [2, 1]], [[140, 106], [-10, 4]], [[130, 110], [-8, 9]], [[122, 119], [-2, 1]], [[120, 120], [6, 5], [16, -2], [4, 7], [3, -8]], [[149, 122], [0, -2]], [[149, 120], [-3, -3], [7, -6]], [[153, 111], [-4, -3]], [[149, 108], [-9, -2]]]}}}, {\"mode\": \"vega-lite\"});\n",
       "</script>"
      ],
      "text/plain": [
       "alt.Chart(...)"
      ]
     },
     "execution_count": 40,
     "metadata": {},
     "output_type": "execute_result"
    }
   ],
   "source": [
    "topo.toposimplify(\n",
    "    epsilon=1,\n",
    "    simplify_algorithm='dp', \n",
    "    simplify_with='shapely', \n",
    "    prevent_oversimplify=False\n",
    ").to_alt().properties(title='Douglas-Peucker (package simplification)')"
   ]
  },
  {
   "cell_type": "code",
   "execution_count": 46,
   "metadata": {},
   "outputs": [
    {
     "data": {
      "image/svg+xml": [
       "<svg xmlns=\"http://www.w3.org/2000/svg\" xmlns:xlink=\"http://www.w3.org/1999/xlink\" width=\"100.0\" height=\"100.0\" viewBox=\"-0.08 -0.08 2.16 1.1600000000000001\" preserveAspectRatio=\"xMinYMin meet\"><g transform=\"matrix(1,0,0,-1,0,1.0)\"><g><polyline fill=\"none\" stroke=\"#66cc99\" stroke-width=\"0.0432\" points=\"0.0,0.0 0.97,0.0 0.97,1.0 0.0,1.0 0.0,0.0\" opacity=\"0.8\" /><polyline fill=\"none\" stroke=\"#66cc99\" stroke-width=\"0.0432\" points=\"1.03,0.0 2.0,0.0 2.0,1.0 1.03,1.0 1.03,0.0\" opacity=\"0.8\" /></g></g></svg>"
      ],
      "text/plain": [
       "<shapely.geometry.multilinestring.MultiLineString at 0x1cbc1698588>"
      ]
     },
     "execution_count": 46,
     "metadata": {},
     "output_type": "execute_result"
    }
   ],
   "source": [
    "import topojson as tp\n",
    "from shapely import geometry\n",
    "\n",
    "data = geometry.MultiLineString([\n",
    "    [[0, 0], [0.97, 0], [0.97, 1], [0, 1], [0, 0]], \n",
    "    [[1.03, 0], [2, 0], [2, 1], [1.03, 1], [1.03, 0]]\n",
    "])\n",
    "data"
   ]
  },
  {
   "cell_type": "code",
   "execution_count": 52,
   "metadata": {},
   "outputs": [
    {
     "data": {
      "text/plain": [
       "{'type': 'Topology',\n",
       " 'objects': {'data': {'geometries': [{'type': 'MultiLineString',\n",
       "     'arcs': [[0], [1]]}],\n",
       "   'type': 'GeometryCollection'}},\n",
       " 'bbox': (0.0, 0.0, 2.0, 1.0),\n",
       " 'arcs': [[[0.0, 0.0], [0.97, 0.0], [0.97, 1.0], [0.0, 1.0], [0.0, 0.0]],\n",
       "  [[1.03, 0.0], [2.0, 0.0], [2.0, 1.0], [1.03, 1.0], [1.03, 0.0]]]}"
      ]
     },
     "execution_count": 52,
     "metadata": {},
     "output_type": "execute_result"
    }
   ],
   "source": [
    "tp.Topology(data, prequantize=False, winding_order='CW_CCW').to_dict()"
   ]
  },
  {
   "cell_type": "code",
   "execution_count": 54,
   "metadata": {},
   "outputs": [],
   "source": [
    "t = tp.Topology(data, prequantize=False, winding_order='CCW_CW')#.to_dict()"
   ]
  },
  {
   "cell_type": "code",
   "execution_count": null,
   "metadata": {},
   "outputs": [],
   "source": [
    "t.to_geojson()"
   ]
  },
  {
   "cell_type": "code",
   "execution_count": 11,
   "metadata": {},
   "outputs": [
    {
     "data": {
      "image/svg+xml": [
       "<svg xmlns=\"http://www.w3.org/2000/svg\" xmlns:xlink=\"http://www.w3.org/1999/xlink\" width=\"100.0\" height=\"100.0\" viewBox=\"-0.7753920153920155 -0.7753920153920155 1.8436763236763236 1.5507840307840308\" preserveAspectRatio=\"xMinYMin meet\"><g transform=\"matrix(1,0,0,-1,0,-2.220446049250313e-16)\"><g><polyline fill=\"none\" stroke=\"#66cc99\" stroke-width=\"0.03687352647352647\" points=\"0.9999999999999998,1.000001000006634e-06 -0.7071077071077072,-0.7071077071077072 -0.7071077071077072,0.707107707107707 0.9999999999999998,1.000001000006634e-06\" opacity=\"0.8\" /></g></g></svg>"
      ],
      "text/plain": [
       "<shapely.geometry.multilinestring.MultiLineString at 0x1cbc12e7288>"
      ]
     },
     "metadata": {},
     "output_type": "display_data"
    }
   ],
   "source": [
    "# force simplification\n",
    "tp.Topology(\n",
    "    circle, \n",
    "    toposimplify=1,\n",
    "\n",
    "\n",
    ").to_svg()"
   ]
  },
  {
   "cell_type": "code",
   "execution_count": null,
   "metadata": {},
   "outputs": [],
   "source": []
  },
  {
   "cell_type": "code",
   "execution_count": null,
   "metadata": {},
   "outputs": [],
   "source": [
    "\" \".join('cdf')"
   ]
  },
  {
   "cell_type": "code",
   "execution_count": null,
   "metadata": {},
   "outputs": [],
   "source": [
    "lg = (\n",
    "                    \"The Douglas–Peucker algorithm within the `simplification` package\",\n",
    "                    \"has no options to prevent oversimplification. Use Visvalingam–\",\n",
    "                    \"Whyatt (`vw`) algorithm when using the simplification package or\",\n",
    "                    \"use Douglas-Peucker algorithm from `shapely` package to prevent\",\n",
    "                    \"oversimplification\",\n",
    "                )\n",
    "\"\".join(lg)"
   ]
  },
  {
   "cell_type": "code",
   "execution_count": null,
   "metadata": {},
   "outputs": [],
   "source": [
    "import topojson as tp\n",
    "data = tp.utils.example_data_africa()\n",
    "topo = tp.Topology(data)\n",
    "topo_tq = topo.topoquantize(175)\n",
    "\n",
    "print(f'length with topoquantization:    {len(topo_tq.to_json())}')\n",
    "print(f'length without topoquantization: {len(topo.to_json())}')"
   ]
  },
  {
   "cell_type": "code",
   "execution_count": null,
   "metadata": {},
   "outputs": [],
   "source": [
    "f = topo.to_svg()# | topo_tq.to_svg()"
   ]
  },
  {
   "cell_type": "code",
   "execution_count": null,
   "metadata": {},
   "outputs": [],
   "source": [
    "from IPython.display import SVG, display, HTML\n",
    "class SVGDisplay():\n",
    "    def __init__(self, toposvg):\n",
    "        return toposvg\n",
    "    def __or__(self, other):\n",
    "        me = self\n",
    "        return (me, other)    \n",
    "    def __repr_svg__(self):\n",
    "        display(self)"
   ]
  },
  {
   "cell_type": "code",
   "execution_count": null,
   "metadata": {},
   "outputs": [],
   "source": [
    "x = SVGDisplay(topo.to_svg())\n",
    "y = SVGDisplay(topo_tq.to_svg())"
   ]
  },
  {
   "cell_type": "code",
   "execution_count": null,
   "metadata": {},
   "outputs": [],
   "source": [
    "from shapely import geometry"
   ]
  },
  {
   "cell_type": "code",
   "execution_count": null,
   "metadata": {},
   "outputs": [],
   "source": [
    "x = geometry.MultiLineString(topo.output['arcs'])._repr_svg_()\n",
    "y = geometry.MultiLineString(topo_tq.output['arcs'])._repr_svg_()"
   ]
  },
  {
   "cell_type": "code",
   "execution_count": null,
   "metadata": {},
   "outputs": [],
   "source": [
    "CSS = \"\"\"\n",
    ".output {\n",
    "    flex-direction: row;\n",
    "}\n",
    "\"\"\"\n",
    "\n",
    "HTML('<style>{}</style>'.format(CSS))"
   ]
  },
  {
   "cell_type": "code",
   "execution_count": null,
   "metadata": {},
   "outputs": [],
   "source": [
    "display(SVG(x), SVG(y))"
   ]
  },
  {
   "cell_type": "code",
   "execution_count": null,
   "metadata": {},
   "outputs": [],
   "source": [
    "arcs = topo_object[\"linestrings\"]"
   ]
  },
  {
   "cell_type": "code",
   "execution_count": null,
   "metadata": {},
   "outputs": [],
   "source": [
    "topo.to_svg()._repr_svg_()"
   ]
  },
  {
   "cell_type": "code",
   "execution_count": null,
   "metadata": {},
   "outputs": [],
   "source": [
    "display((x | y))"
   ]
  },
  {
   "cell_type": "code",
   "execution_count": null,
   "metadata": {},
   "outputs": [],
   "source": [
    "topo.topoquantize(75)"
   ]
  },
  {
   "cell_type": "code",
   "execution_count": null,
   "metadata": {},
   "outputs": [],
   "source": [
    "import topojson as tp\n",
    "data = tp.utils.example_data_africa()\n",
    "\n",
    "topo = tp.Topology(data)\n",
    "\n",
    "# we visualize with the (optional!) package Altair,\n",
    "# since SVG rendering is too small\n",
    "toposimp = topo.toposimplify(1).to_alt().properties(title='WITH Toposimplify')\n",
    "toposimp | topo.to_alt()"
   ]
  },
  {
   "cell_type": "code",
   "execution_count": null,
   "metadata": {},
   "outputs": [],
   "source": [
    "topo.topoquantize(35).to_alt(color='properties.name:N')"
   ]
  },
  {
   "cell_type": "code",
   "execution_count": null,
   "metadata": {},
   "outputs": [],
   "source": [
    "import numpy as np\n",
    "d = np.array([3, 152,  62, 52])\n",
    "#d = -np.sort(-d)"
   ]
  },
  {
   "cell_type": "code",
   "execution_count": null,
   "metadata": {},
   "outputs": [],
   "source": [
    "def _cart(arr):\n",
    "    \"\"\"\n",
    "    Function that returns the all combinations as a 2D array\n",
    "    [3, 152,  62, 52] is returned as [[152,  62], [152,  52], [152,   3]]\n",
    "    \"\"\"\n",
    "    arr = -np.sort(-arr)\n",
    "    arr = np.array(np.meshgrid(arr[0], arr[1:])).T.reshape(-1,2)\n",
    "    return arr"
   ]
  },
  {
   "cell_type": "code",
   "execution_count": null,
   "metadata": {},
   "outputs": [],
   "source": [
    "_cart(d)"
   ]
  },
  {
   "cell_type": "code",
   "execution_count": null,
   "metadata": {},
   "outputs": [],
   "source": [
    "[j for i in range(100) if i > 10 for j in range(i) if j < 20]"
   ]
  },
  {
   "cell_type": "code",
   "execution_count": null,
   "metadata": {},
   "outputs": [],
   "source": []
  },
  {
   "cell_type": "code",
   "execution_count": null,
   "metadata": {},
   "outputs": [],
   "source": [
    "len(topo.topoquantize(75).to_json())"
   ]
  },
  {
   "cell_type": "code",
   "execution_count": null,
   "metadata": {},
   "outputs": [],
   "source": [
    "len(topo.to_json())"
   ]
  },
  {
   "cell_type": "code",
   "execution_count": null,
   "metadata": {},
   "outputs": [],
   "source": [
    "topo.to_alt() | topo.topoquantize(75).to_alt()"
   ]
  },
  {
   "cell_type": "code",
   "execution_count": null,
   "metadata": {},
   "outputs": [],
   "source": []
  },
  {
   "cell_type": "code",
   "execution_count": null,
   "metadata": {},
   "outputs": [],
   "source": [
    "import topojson as tp\n",
    "import numpy as np\n",
    "from shapely import geometry\n",
    "\n",
    "data = geometry.MultiLineString([\n",
    "    [[0, 0], [0.97, 0], [0.97, 1], [0, 1], [0, 0]], \n",
    "    [[1.03, 0], [2, 0], [2, 1], [1.03, 1], [1.03, 0]]\n",
    "])\n",
    "data"
   ]
  },
  {
   "cell_type": "code",
   "execution_count": null,
   "metadata": {},
   "outputs": [],
   "source": [
    "(x1 - x0) / (quant_factor - 1)"
   ]
  },
  {
   "cell_type": "code",
   "execution_count": null,
   "metadata": {},
   "outputs": [],
   "source": [
    "# get the x-numbers of all coordinates\n",
    "x = np.array([ls.xy[0] for ls in data])\n",
    "print(f'x:\\n{x}')\n",
    "\n",
    "# compute the scaling factor (kx) given the quantize factor (qf)\n",
    "qf = 33\n",
    "kx = (x.max() - x.min()) / (qf - 1)\n",
    "print(f'scale-x:\\n{kx}')\n",
    "\n",
    "# shift and apply the scaling factor to map the x-numbers on the integer range\n",
    "xnorm = np.round((x - x.min()) / kx).astype(int)\n",
    "print(f'x-normalized:\\n{xnorm}')\n",
    "\n",
    "# denormalize happens as follow\n",
    "print(f'x-denormalized:\\n{xnorm * kx + x.min()}')"
   ]
  },
  {
   "cell_type": "code",
   "execution_count": null,
   "metadata": {},
   "outputs": [],
   "source": [
    "# delta encoding of normalized x-numbers\n",
    "x_quant = np.insert(np.diff(xnorm), 0, xnorm[:,0], axis=1)\n",
    "print(f'x-quantized (normalized-delta-encoded):\\n{x_quant}')\n",
    "\n",
    "# dequantization of quantized x-numbers\n",
    "x_dequant = x_quant.cumsum(axis=1) * kx + x.min()\n",
    "print(f'x-dequantized:\\n{x_dequant}')"
   ]
  },
  {
   "cell_type": "code",
   "execution_count": null,
   "metadata": {},
   "outputs": [],
   "source": [
    "topo = tp.Topology(data, prequantize=33)\n",
    "topo.to_svg()\n",
    "topo"
   ]
  },
  {
   "cell_type": "code",
   "execution_count": null,
   "metadata": {},
   "outputs": [],
   "source": [
    "zz = 1.9\n",
    "int(zz)"
   ]
  },
  {
   "cell_type": "markdown",
   "metadata": {},
   "source": [
    "![formula](https://render.githubusercontent.com/render/math?math=k_x=(x_{max}-x_{min})/(q_f-1))\n",
    "\n",
    "\n",
    "\n",
    "<img src=\"https://render.githubusercontent.com/render/math?math=k_x=(x_{max}-x_{min})/(q_f-1)\">"
   ]
  },
  {
   "cell_type": "code",
   "execution_count": null,
   "metadata": {},
   "outputs": [],
   "source": [
    "sc = (2 - 0))\n",
    "sc"
   ]
  },
  {
   "cell_type": "code",
   "execution_count": null,
   "metadata": {},
   "outputs": [],
   "source": [
    "(2 - 0) / 32"
   ]
  },
  {
   "cell_type": "code",
   "execution_count": null,
   "metadata": {},
   "outputs": [],
   "source": [
    "x_norm = x / sc"
   ]
  },
  {
   "cell_type": "code",
   "execution_count": null,
   "metadata": {},
   "outputs": [],
   "source": [
    "x * 0.0625"
   ]
  },
  {
   "cell_type": "code",
   "execution_count": null,
   "metadata": {},
   "outputs": [],
   "source": [
    "toy = tp.Topology(data, prequantize=33)\n",
    "geometry.MultiLineString(toy.output['arcs'])\n",
    "#toy.to_svg()"
   ]
  },
  {
   "cell_type": "code",
   "execution_count": null,
   "metadata": {},
   "outputs": [],
   "source": [
    "print(toy.to_json(style='pretty'))"
   ]
  },
  {
   "cell_type": "code",
   "execution_count": null,
   "metadata": {},
   "outputs": [],
   "source": []
  },
  {
   "cell_type": "code",
   "execution_count": null,
   "metadata": {},
   "outputs": [],
   "source": [
    "tp.Topology(data, prequantize=50).to_svg()"
   ]
  },
  {
   "cell_type": "code",
   "execution_count": null,
   "metadata": {},
   "outputs": [],
   "source": [
    "from shapely import geometry"
   ]
  },
  {
   "cell_type": "code",
   "execution_count": null,
   "metadata": {},
   "outputs": [],
   "source": [
    "ky"
   ]
  },
  {
   "cell_type": "code",
   "execution_count": null,
   "metadata": {},
   "outputs": [],
   "source": [
    "from topojson.core.extract import Extract\n",
    "from topojson.ops import bounds\n",
    "import numpy as np"
   ]
  },
  {
   "cell_type": "code",
   "execution_count": null,
   "metadata": {},
   "outputs": [],
   "source": [
    "e = Extract(data)"
   ]
  },
  {
   "cell_type": "code",
   "execution_count": null,
   "metadata": {},
   "outputs": [],
   "source": [
    "ls = e.output[\"linestrings\"]\n",
    "bbox = bounds(ls)"
   ]
  },
  {
   "cell_type": "code",
   "execution_count": null,
   "metadata": {},
   "outputs": [],
   "source": [
    "bbox"
   ]
  },
  {
   "cell_type": "code",
   "execution_count": null,
   "metadata": {},
   "outputs": [],
   "source": [
    "ls = [np.asarray(l.coords).T for l in ls]"
   ]
  },
  {
   "cell_type": "code",
   "execution_count": null,
   "metadata": {},
   "outputs": [],
   "source": [
    "for l in ls:\n",
    "    l = [l[0]-x0, l[1]-y0]"
   ]
  },
  {
   "cell_type": "code",
   "execution_count": null,
   "metadata": {},
   "outputs": [],
   "source": [
    "y0"
   ]
  },
  {
   "cell_type": "code",
   "execution_count": null,
   "metadata": {},
   "outputs": [],
   "source": [
    "ls"
   ]
  },
  {
   "cell_type": "code",
   "execution_count": null,
   "metadata": {},
   "outputs": [],
   "source": [
    "quantize(ls, bbox, quant_factor=3)"
   ]
  },
  {
   "cell_type": "code",
   "execution_count": null,
   "metadata": {},
   "outputs": [],
   "source": [
    "quantize(ls, bbox, quant_factor=3)"
   ]
  },
  {
   "cell_type": "code",
   "execution_count": null,
   "metadata": {},
   "outputs": [],
   "source": [
    "\n",
    "quant_factor = 3\n",
    "topo = tp.Topology(data, prequantize=quant_factor)\n",
    "topo"
   ]
  },
  {
   "cell_type": "code",
   "execution_count": null,
   "metadata": {},
   "outputs": [],
   "source": [
    "x0, y0, x1, y1 = bbox\n",
    "kx = 1 / ((- 1) / (x1 - x0))\n",
    "ky = 1 / ((quant_factor - 1) / (y1 - y0))\n",
    "\n",
    "kx, ky"
   ]
  },
  {
   "cell_type": "code",
   "execution_count": null,
   "metadata": {},
   "outputs": [],
   "source": [
    "kx = (x1 - x0) / (quant_factor - 1)\n",
    "ky = (y1 - y0) / (quant_factor - 1)\n"
   ]
  },
  {
   "cell_type": "code",
   "execution_count": null,
   "metadata": {},
   "outputs": [],
   "source": [
    "kx, ky"
   ]
  },
  {
   "cell_type": "code",
   "execution_count": null,
   "metadata": {},
   "outputs": [],
   "source": [
    "kx, ky"
   ]
  },
  {
   "cell_type": "code",
   "execution_count": null,
   "metadata": {},
   "outputs": [],
   "source": [
    "ls"
   ]
  },
  {
   "cell_type": "code",
   "execution_count": null,
   "metadata": {},
   "outputs": [],
   "source": [
    "def quantize(linestrings, bbox, quant_factor=1e6):\n",
    "    \"\"\"\n",
    "    Function that applies quantization. Quantization removes information by reducing\n",
    "    the precision of each coordinate, effectively snapping each point to a regular grid.\n",
    "\n",
    "    Parameters\n",
    "    ----------\n",
    "    linestrings : list of shapely.geometry.LineStrings\n",
    "        LineStrings that will be quantized\n",
    "    quant_factor : int\n",
    "        Quantization factor. Normally this varies between 1e4, 1e5, 1e6. Where a\n",
    "        higher number means a bigger grid where the coordinates can snap to.\n",
    "\n",
    "    Returns\n",
    "    -------\n",
    "    dict\n",
    "        `transform`, scale (`kx`, `ky`) and translation (`x0`, `y0`) values\n",
    "    array\n",
    "        `bbox`, bounding box of all linestrings\n",
    "    \"\"\"\n",
    "\n",
    "    x0, y0, x1, y1 = bbox\n",
    "    try:\n",
    "#         kx = 1 / ((quant_factor - 1) / (x1 - x0))\n",
    "#         ky = 1 / ((quant_factor - 1) / (y1 - y0))\n",
    "        \n",
    "#         kx = (x1 - x0) / (quant_factor - 1)\n",
    "#         ky = (y1 - y0) / (quant_factor - 1)     \n",
    "        \n",
    "        kx = (quant_factor - 1) / (x1 - x0)\n",
    "        ky = (quant_factor - 1) / (y1 - y0)\n",
    "    except ZeroDivisionError:\n",
    "        # ZeroDivisionError: float division by zero\n",
    "        raise SystemExit(\"Cannot quantize when xmax-xmin OR ymax-ymin equals 0\")\n",
    "\n",
    "    quant = []\n",
    "    for idx, ls in enumerate(linestrings):\n",
    "        if hasattr(ls, \"coords\"):\n",
    "            ls_xy = np.asarray(ls.coords).T\n",
    "        else:\n",
    "            ls_xy = np.asarray(ls).T\n",
    "        ls_xy = (\n",
    "            np.array([(ls_xy[0] - x0) * kx, (ls_xy[1] - y0) * ky])\n",
    "            .round()\n",
    "            .astype(np.int64)\n",
    "            .T\n",
    "        )\n",
    "        quant.append(ls_xy)\n",
    "    return quant"
   ]
  },
  {
   "cell_type": "code",
   "execution_count": null,
   "metadata": {},
   "outputs": [],
   "source": [
    "topo"
   ]
  },
  {
   "cell_type": "code",
   "execution_count": null,
   "metadata": {},
   "outputs": [],
   "source": [
    "import geopandas as gpd"
   ]
  },
  {
   "cell_type": "code",
   "execution_count": null,
   "metadata": {},
   "outputs": [],
   "source": [
    "gdf = gpd.read_file(r\"C:\\Users\\lilei\\Downloads\\out_5.json\")"
   ]
  },
  {
   "cell_type": "code",
   "execution_count": null,
   "metadata": {},
   "outputs": [],
   "source": [
    "topo = tp.Topology(gdf)"
   ]
  },
  {
   "cell_type": "code",
   "execution_count": null,
   "metadata": {},
   "outputs": [],
   "source": [
    "topo.to_alt()"
   ]
  },
  {
   "cell_type": "code",
   "execution_count": null,
   "metadata": {},
   "outputs": [],
   "source": []
  }
 ],
 "metadata": {
  "kernelspec": {
   "display_name": "Python 3",
   "language": "python",
   "name": "python3"
  },
  "language_info": {
   "codemirror_mode": {
    "name": "ipython",
    "version": 3
   },
   "file_extension": ".py",
   "mimetype": "text/x-python",
   "name": "python",
   "nbconvert_exporter": "python",
   "pygments_lexer": "ipython3",
   "version": "3.7.4"
  }
 },
 "nbformat": 4,
 "nbformat_minor": 4
}
