{
 "cells": [
  {
   "cell_type": "code",
   "execution_count": null,
   "metadata": {},
   "outputs": [],
   "source": [
    "import numpy as np\n",
    "import matplotlib.pyplot as plt\n",
    "from skimage.morphology import skeletonize\n",
    "%matplotlib inline\n",
    "\n",
    "width, height = 1600, 1200\n",
    "scale = 9 / np.sqrt(width * height)\n",
    "y, x = np.ogrid[-height + 1 : height : 2, -width - 1 : width : 2]\n",
    "z = ((x + y * 1j) * scale) ** (3 / 2) / (14 + 4j)\n",
    "w = (10 - 3j) / (2 * np.pi) * np.log((z + 1) / (z - 1)) + 1 / 2\n",
    "dist = np.minimum(np.abs(w.real - np.round(w.real)), np.abs(w.imag - np.round(w.imag)))\n",
    "im = (dist < 0.04).astype(np.uint8)\n",
    "plt.imshow(im)\n",
    "skeleton = skeletonize(im,method='lee')"
   ]
  },
  {
   "cell_type": "code",
   "execution_count": null,
   "metadata": {},
   "outputs": [],
   "source": [
    "import topojson as tp"
   ]
  },
  {
   "cell_type": "code",
   "execution_count": null,
   "metadata": {},
   "outputs": [],
   "source": [
    "data = tp.utils.example_data_africa()\n",
    "topo = tp.Topology(data)"
   ]
  },
  {
   "cell_type": "code",
   "execution_count": 13,
   "metadata": {},
   "outputs": [
    {
     "data": {
      "image/svg+xml": [
       "<svg xmlns=\"http://www.w3.org/2000/svg\" xmlns:xlink=\"http://www.w3.org/1999/xlink\" width=\"100.0\" height=\"100.0\" viewBox=\"-0.08 -0.08 2.16 1.1600000000000001\" preserveAspectRatio=\"xMinYMin meet\"><g transform=\"matrix(1,0,0,-1,0,1.0)\"><g><polyline fill=\"none\" stroke=\"#66cc99\" stroke-width=\"0.0432\" points=\"0.0,0.0 1.0,0.0 1.0,1.0 0.0,1.0 0.0,0.0\" opacity=\"0.8\" /><polyline fill=\"none\" stroke=\"#66cc99\" stroke-width=\"0.0432\" points=\"1.0,0.0 2.0,0.0 2.0,1.0 1.0,1.0 1.0,0.0\" opacity=\"0.8\" /></g></g></svg>"
      ],
      "text/plain": [
       "<shapely.geometry.multilinestring.MultiLineString at 0x2982a946cc8>"
      ]
     },
     "execution_count": 13,
     "metadata": {},
     "output_type": "execute_result"
    }
   ],
   "source": [
    "import topojson as tp\n",
    "from shapely import geometry\n",
    "\n",
    "data = geometry.MultiLineString([\n",
    "    [[0, 0], [1, 0], [1, 1], [0, 1], [0, 0]], \n",
    "    [[1, 0], [2, 0], [2, 1], [1, 1], [1, 0]]\n",
    "])\n",
    "data"
   ]
  },
  {
   "cell_type": "markdown",
   "metadata": {},
   "source": [
    "sdfsd _sdf_"
   ]
  },
  {
   "cell_type": "code",
   "execution_count": 14,
   "metadata": {},
   "outputs": [
    {
     "data": {
      "text/plain": [
       "Topology(\n",
       "{'arcs': [[[1.0, 1.0], [0.0, 1.0], [0.0, 0.0], [1.0, 0.0]],\n",
       "          [[1.0, 0.0], [2.0, 0.0], [2.0, 1.0], [1.0, 1.0]],\n",
       "          [[1.0, 1.0], [1.0, 0.0]]],\n",
       " 'bbox': (0.0, 0.0, 2.0, 1.0),\n",
       " 'coordinates': [],\n",
       " 'objects': {'data': {'geometries': [{'arcs': [[-3, 0], [1, 2]],\n",
       "                                      'type': 'MultiLineString'}],\n",
       "                      'type': 'GeometryCollection'}},\n",
       " 'type': 'Topology'}\n",
       ")"
      ]
     },
     "execution_count": 14,
     "metadata": {},
     "output_type": "execute_result"
    }
   ],
   "source": [
    "topo = tp.Topology(data, topology=True, prequantize=False)\n",
    "topo"
   ]
  },
  {
   "cell_type": "code",
   "execution_count": 7,
   "metadata": {},
   "outputs": [
    {
     "data": {
      "image/svg+xml": [
       "<svg xmlns=\"http://www.w3.org/2000/svg\" xmlns:xlink=\"http://www.w3.org/1999/xlink\" width=\"100.0\" height=\"100.0\" viewBox=\"-0.08 -0.08 2.16 1.1600000000000001\" preserveAspectRatio=\"xMinYMin meet\"><g transform=\"matrix(1,0,0,-1,0,1.0)\"><g><polyline fill=\"none\" stroke=\"#66cc99\" stroke-width=\"0.0432\" points=\"1.0,1.0 0.0,1.0 0.0,0.0 1.0,0.0\" opacity=\"0.8\" /><polyline fill=\"none\" stroke=\"#66cc99\" stroke-width=\"0.0432\" points=\"1.0,0.0 2.0,0.0 2.0,1.0 1.0,1.0\" opacity=\"0.8\" /><polyline fill=\"none\" stroke=\"#66cc99\" stroke-width=\"0.0432\" points=\"1.0,1.0 1.0,0.0\" opacity=\"0.8\" /></g></g></svg>"
      ],
      "text/plain": [
       "<shapely.geometry.multilinestring.MultiLineString at 0x2982a927a08>"
      ]
     },
     "metadata": {},
     "output_type": "display_data"
    }
   ],
   "source": [
    "topo.to_svg(topology)"
   ]
  },
  {
   "cell_type": "code",
   "execution_count": 8,
   "metadata": {},
   "outputs": [
    {
     "data": {
      "text/plain": [
       "Topology(\n",
       "{'arcs': [[[1.0, 1.0], [0.0, 1.0], [0.0, 0.0], [1.0, 0.0]],\n",
       "          [[1.0, 0.0], [2.0, 0.0], [2.0, 1.0], [1.0, 1.0]],\n",
       "          [[1.0, 1.0], [1.0, 0.0]]],\n",
       " 'bbox': (0.0, 0.0, 2.0, 1.0),\n",
       " 'coordinates': [],\n",
       " 'objects': {'data': {'geometries': [{'arcs': [[-3, 0], [1, 2]],\n",
       "                                      'type': 'MultiLineString'}],\n",
       "                      'type': 'GeometryCollection'}},\n",
       " 'type': 'Topology'}\n",
       ")"
      ]
     },
     "execution_count": 8,
     "metadata": {},
     "output_type": "execute_result"
    }
   ],
   "source": [
    "topo"
   ]
  },
  {
   "cell_type": "code",
   "execution_count": null,
   "metadata": {},
   "outputs": [],
   "source": []
  }
 ],
 "metadata": {
  "kernelspec": {
   "display_name": "Python 3",
   "language": "python",
   "name": "python3"
  },
  "language_info": {
   "codemirror_mode": {
    "name": "ipython",
    "version": 3
   },
   "file_extension": ".py",
   "mimetype": "text/x-python",
   "name": "python",
   "nbconvert_exporter": "python",
   "pygments_lexer": "ipython3",
   "version": "3.7.4"
  }
 },
 "nbformat": 4,
 "nbformat_minor": 4
}
