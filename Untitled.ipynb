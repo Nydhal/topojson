{
 "cells": [
  {
   "cell_type": "markdown",
   "metadata": {},
   "source": [
    "#### WINDING ORDER EXAMPLE"
   ]
  },
  {
   "cell_type": "code",
   "execution_count": 9,
   "metadata": {},
   "outputs": [
    {
     "data": {
      "image/svg+xml": [
       "<svg xmlns=\"http://www.w3.org/2000/svg\" xmlns:xlink=\"http://www.w3.org/1999/xlink\" width=\"100.0\" height=\"100.0\" viewBox=\"-0.4 -0.4 10.8 10.8\" preserveAspectRatio=\"xMinYMin meet\"><g transform=\"matrix(1,0,0,-1,0,10.0)\"><path fill-rule=\"evenodd\" fill=\"#66cc99\" stroke=\"#555555\" stroke-width=\"0.21600000000000003\" opacity=\"0.6\" d=\"M 0.0,0.0 L 10.0,0.0 L 10.0,10.0 L 0.0,10.0 L 0.0,0.0 z\" /></g></svg>"
      ],
      "text/plain": [
       "<shapely.geometry.polygon.Polygon at 0x29c54ea1f88>"
      ]
     },
     "execution_count": 9,
     "metadata": {},
     "output_type": "execute_result"
    }
   ],
   "source": [
    "import topojson as tp\n",
    "from shapely import geometry\n",
    "\n",
    "data = geometry.shape({\n",
    "    \"type\": \"Polygon\",\n",
    "    \"coordinates\": [[[0,0],[10,0],[10,10],[0,10],[0,0]]]\n",
    "})\n",
    "data"
   ]
  },
  {
   "cell_type": "code",
   "execution_count": 15,
   "metadata": {},
   "outputs": [
    {
     "data": {
      "text/plain": [
       "({'type': 'Topology',\n",
       "  'objects': {'data': {'geometries': [{'type': 'Polygon', 'arcs': [[0]]}],\n",
       "    'type': 'GeometryCollection'}},\n",
       "  'bbox': (0.0, 0.0, 10.0, 10.0),\n",
       "  'arcs': [[[0.0, 0.0], [0.0, 10.0], [10.0, 10.0], [10.0, 0.0], [0.0, 0.0]]]},\n",
       " {'type': 'Topology',\n",
       "  'objects': {'data': {'geometries': [{'type': 'Polygon', 'arcs': [[0]]}],\n",
       "    'type': 'GeometryCollection'}},\n",
       "  'bbox': (0.0, 0.0, 10.0, 10.0),\n",
       "  'arcs': [[[0.0, 0.0], [10.0, 0.0], [10.0, 10.0], [0.0, 10.0], [0.0, 0.0]]]})"
      ]
     },
     "execution_count": 15,
     "metadata": {},
     "output_type": "execute_result"
    }
   ],
   "source": [
    "CW_CCW = tp.Topology(data, winding_order='CW_CCW', prequantize=False).to_dict()\n",
    "CCW_CW = tp.Topology(data, winding_order='CCW_CW', prequantize=False).to_dict()\n",
    "\n",
    "CW_CCW, CCW_CW"
   ]
  },
  {
   "cell_type": "code",
   "execution_count": 13,
   "metadata": {},
   "outputs": [
    {
     "data": {
      "text/html": [
       "\n",
       "<div id=\"altair-viz-a6af3bc7fdd54e9ea112d15742d0d498\"></div>\n",
       "<script type=\"text/javascript\">\n",
       "  (function(spec, embedOpt){\n",
       "    let outputDiv = document.currentScript.previousElementSibling;\n",
       "    if (outputDiv.id !== \"altair-viz-a6af3bc7fdd54e9ea112d15742d0d498\") {\n",
       "      outputDiv = document.getElementById(\"altair-viz-a6af3bc7fdd54e9ea112d15742d0d498\");\n",
       "    }\n",
       "    const paths = {\n",
       "      \"vega\": \"https://cdn.jsdelivr.net/npm//vega@5?noext\",\n",
       "      \"vega-lib\": \"https://cdn.jsdelivr.net/npm//vega-lib?noext\",\n",
       "      \"vega-lite\": \"https://cdn.jsdelivr.net/npm//vega-lite@4.8.1?noext\",\n",
       "      \"vega-embed\": \"https://cdn.jsdelivr.net/npm//vega-embed@6?noext\",\n",
       "    };\n",
       "\n",
       "    function loadScript(lib) {\n",
       "      return new Promise(function(resolve, reject) {\n",
       "        var s = document.createElement('script');\n",
       "        s.src = paths[lib];\n",
       "        s.async = true;\n",
       "        s.onload = () => resolve(paths[lib]);\n",
       "        s.onerror = () => reject(`Error loading script: ${paths[lib]}`);\n",
       "        document.getElementsByTagName(\"head\")[0].appendChild(s);\n",
       "      });\n",
       "    }\n",
       "\n",
       "    function showError(err) {\n",
       "      outputDiv.innerHTML = `<div class=\"error\" style=\"color:red;\">${err}</div>`;\n",
       "      throw err;\n",
       "    }\n",
       "\n",
       "    function displayChart(vegaEmbed) {\n",
       "      vegaEmbed(outputDiv, spec, embedOpt)\n",
       "        .catch(err => showError(`Javascript Error: ${err.message}<br>This usually means there's a typo in your chart specification. See the javascript console for the full traceback.`));\n",
       "    }\n",
       "\n",
       "    if(typeof define === \"function\" && define.amd) {\n",
       "      requirejs.config({paths});\n",
       "      require([\"vega-embed\"], displayChart, err => showError(`Error loading script: ${err.message}`));\n",
       "    } else if (typeof vegaEmbed === \"function\") {\n",
       "      displayChart(vegaEmbed);\n",
       "    } else {\n",
       "      loadScript(\"vega\")\n",
       "        .then(() => loadScript(\"vega-lite\"))\n",
       "        .then(() => loadScript(\"vega-embed\"))\n",
       "        .catch(showError)\n",
       "        .then(() => displayChart(vegaEmbed));\n",
       "    }\n",
       "  })({\"config\": {\"view\": {\"continuousWidth\": 400, \"continuousHeight\": 300}}, \"vconcat\": [{\"data\": {\"name\": \"data-a4e96b1c68c97ee5a26004920d23ccd0\", \"format\": {\"feature\": \"data\", \"type\": \"topojson\"}}, \"mark\": \"geoshape\", \"encoding\": {\"color\": {\"type\": \"nominal\", \"field\": \"type\", \"legend\": {\"columns\": 2}}, \"tooltip\": [{\"type\": \"nominal\", \"field\": \"type\"}]}, \"projection\": {\"reflectY\": true, \"type\": \"equalEarth\"}, \"title\": \"CW_CCW\", \"width\": 300}, {\"data\": {\"name\": \"data-c2ff144c3d6e61e0456342162dddaebb\", \"format\": {\"feature\": \"data\", \"type\": \"topojson\"}}, \"mark\": \"geoshape\", \"encoding\": {\"color\": {\"type\": \"nominal\", \"field\": \"type\", \"legend\": {\"columns\": 2}}, \"tooltip\": [{\"type\": \"nominal\", \"field\": \"type\"}]}, \"projection\": {\"reflectY\": true, \"type\": \"equalEarth\"}, \"title\": \"CCW_CW\", \"width\": 300}], \"$schema\": \"https://vega.github.io/schema/vega-lite/v4.8.1.json\", \"datasets\": {\"data-a4e96b1c68c97ee5a26004920d23ccd0\": {\"type\": \"Topology\", \"objects\": {\"data\": {\"geometries\": [{\"type\": \"Polygon\", \"arcs\": [[0]]}], \"type\": \"GeometryCollection\"}}, \"bbox\": [0.0, 0.0, 10.0, 10.0], \"transform\": {\"scale\": [1.000001000001e-05, 1.000001000001e-05], \"translate\": [0.0, 0.0]}, \"arcs\": [[[0, 0], [0, 999999], [999999, 0], [0, -999999], [-999999, 0]]]}, \"data-c2ff144c3d6e61e0456342162dddaebb\": {\"type\": \"Topology\", \"objects\": {\"data\": {\"geometries\": [{\"type\": \"Polygon\", \"arcs\": [[0]]}], \"type\": \"GeometryCollection\"}}, \"bbox\": [0.0, 0.0, 10.0, 10.0], \"transform\": {\"scale\": [1.000001000001e-05, 1.000001000001e-05], \"translate\": [0.0, 0.0]}, \"arcs\": [[[0, 0], [999999, 0], [0, 999999], [-999999, 0], [0, -999999]]]}}}, {\"mode\": \"vega-lite\"});\n",
       "</script>"
      ],
      "text/plain": [
       "alt.VConcatChart(...)"
      ]
     },
     "execution_count": 13,
     "metadata": {},
     "output_type": "execute_result"
    }
   ],
   "source": [
    "alt_left = tp.Topology(\n",
    "    data, \n",
    "    winding_order='CW_CCW'\n",
    ").to_alt(\n",
    "    projection='equalEarth', color='type:N'\n",
    ").properties(\n",
    "    title='CW_CCW'\n",
    ")\n",
    "\n",
    "alt_right = tp.Topology(\n",
    "    data, \n",
    "    winding_order='CCW_CW'\n",
    ").to_alt(\n",
    "    projection='equalEarth', \n",
    "    color='type:N'\n",
    ").properties(\n",
    "    title='CCW_CW'\n",
    ")\n",
    "\n",
    "alt_left & alt_right"
   ]
  },
  {
   "cell_type": "code",
   "execution_count": null,
   "metadata": {},
   "outputs": [],
   "source": []
  },
  {
   "cell_type": "code",
   "execution_count": 12,
   "metadata": {},
   "outputs": [
    {
     "data": {
      "text/html": [
       "\n",
       "<div id=\"altair-viz-1ef459b3352544baa2c310a041bd3687\"></div>\n",
       "<script type=\"text/javascript\">\n",
       "  (function(spec, embedOpt){\n",
       "    let outputDiv = document.currentScript.previousElementSibling;\n",
       "    if (outputDiv.id !== \"altair-viz-1ef459b3352544baa2c310a041bd3687\") {\n",
       "      outputDiv = document.getElementById(\"altair-viz-1ef459b3352544baa2c310a041bd3687\");\n",
       "    }\n",
       "    const paths = {\n",
       "      \"vega\": \"https://cdn.jsdelivr.net/npm//vega@5?noext\",\n",
       "      \"vega-lib\": \"https://cdn.jsdelivr.net/npm//vega-lib?noext\",\n",
       "      \"vega-lite\": \"https://cdn.jsdelivr.net/npm//vega-lite@4.8.1?noext\",\n",
       "      \"vega-embed\": \"https://cdn.jsdelivr.net/npm//vega-embed@6?noext\",\n",
       "    };\n",
       "\n",
       "    function loadScript(lib) {\n",
       "      return new Promise(function(resolve, reject) {\n",
       "        var s = document.createElement('script');\n",
       "        s.src = paths[lib];\n",
       "        s.async = true;\n",
       "        s.onload = () => resolve(paths[lib]);\n",
       "        s.onerror = () => reject(`Error loading script: ${paths[lib]}`);\n",
       "        document.getElementsByTagName(\"head\")[0].appendChild(s);\n",
       "      });\n",
       "    }\n",
       "\n",
       "    function showError(err) {\n",
       "      outputDiv.innerHTML = `<div class=\"error\" style=\"color:red;\">${err}</div>`;\n",
       "      throw err;\n",
       "    }\n",
       "\n",
       "    function displayChart(vegaEmbed) {\n",
       "      vegaEmbed(outputDiv, spec, embedOpt)\n",
       "        .catch(err => showError(`Javascript Error: ${err.message}<br>This usually means there's a typo in your chart specification. See the javascript console for the full traceback.`));\n",
       "    }\n",
       "\n",
       "    if(typeof define === \"function\" && define.amd) {\n",
       "      requirejs.config({paths});\n",
       "      require([\"vega-embed\"], displayChart, err => showError(`Error loading script: ${err.message}`));\n",
       "    } else if (typeof vegaEmbed === \"function\") {\n",
       "      displayChart(vegaEmbed);\n",
       "    } else {\n",
       "      loadScript(\"vega\")\n",
       "        .then(() => loadScript(\"vega-lite\"))\n",
       "        .then(() => loadScript(\"vega-embed\"))\n",
       "        .catch(showError)\n",
       "        .then(() => displayChart(vegaEmbed));\n",
       "    }\n",
       "  })({\"config\": {\"view\": {\"continuousWidth\": 400, \"continuousHeight\": 300}}, \"hconcat\": [{\"data\": {\"name\": \"data-a4e96b1c68c97ee5a26004920d23ccd0\", \"format\": {\"feature\": \"data\", \"type\": \"topojson\"}}, \"mark\": \"geoshape\", \"encoding\": {\"color\": {\"type\": \"nominal\", \"field\": \"type\", \"legend\": {\"columns\": 2}}, \"tooltip\": [{\"type\": \"nominal\", \"field\": \"type\"}]}, \"projection\": {\"reflectY\": true, \"type\": \"equalEarth\"}, \"title\": \"CW_CCW\", \"width\": 300}, {\"data\": {\"name\": \"data-c2ff144c3d6e61e0456342162dddaebb\", \"format\": {\"feature\": \"data\", \"type\": \"topojson\"}}, \"mark\": \"geoshape\", \"encoding\": {\"color\": {\"type\": \"nominal\", \"field\": \"type\", \"legend\": {\"columns\": 2}}, \"tooltip\": [{\"type\": \"nominal\", \"field\": \"type\"}]}, \"projection\": {\"reflectY\": true, \"type\": \"equalEarth\"}, \"title\": \"CCW_CW\", \"width\": 300}], \"$schema\": \"https://vega.github.io/schema/vega-lite/v4.8.1.json\", \"datasets\": {\"data-a4e96b1c68c97ee5a26004920d23ccd0\": {\"type\": \"Topology\", \"objects\": {\"data\": {\"geometries\": [{\"type\": \"Polygon\", \"arcs\": [[0]]}], \"type\": \"GeometryCollection\"}}, \"bbox\": [0.0, 0.0, 10.0, 10.0], \"transform\": {\"scale\": [1.000001000001e-05, 1.000001000001e-05], \"translate\": [0.0, 0.0]}, \"arcs\": [[[0, 0], [0, 999999], [999999, 0], [0, -999999], [-999999, 0]]]}, \"data-c2ff144c3d6e61e0456342162dddaebb\": {\"type\": \"Topology\", \"objects\": {\"data\": {\"geometries\": [{\"type\": \"Polygon\", \"arcs\": [[0]]}], \"type\": \"GeometryCollection\"}}, \"bbox\": [0.0, 0.0, 10.0, 10.0], \"transform\": {\"scale\": [1.000001000001e-05, 1.000001000001e-05], \"translate\": [0.0, 0.0]}, \"arcs\": [[[0, 0], [999999, 0], [0, 999999], [-999999, 0], [0, -999999]]]}}}, {\"mode\": \"vega-lite\"});\n",
       "</script>"
      ],
      "text/plain": [
       "alt.HConcatChart(...)"
      ]
     },
     "execution_count": 12,
     "metadata": {},
     "output_type": "execute_result"
    }
   ],
   "source": []
  },
  {
   "cell_type": "code",
   "execution_count": null,
   "metadata": {},
   "outputs": [],
   "source": []
  }
 ],
 "metadata": {
  "kernelspec": {
   "display_name": "Python 3",
   "language": "python",
   "name": "python3"
  },
  "language_info": {
   "codemirror_mode": {
    "name": "ipython",
    "version": 3
   },
   "file_extension": ".py",
   "mimetype": "text/x-python",
   "name": "python",
   "nbconvert_exporter": "python",
   "pygments_lexer": "ipython3",
   "version": "3.7.4"
  }
 },
 "nbformat": 4,
 "nbformat_minor": 4
}
