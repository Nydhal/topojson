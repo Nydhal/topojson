{
 "cells": [
  {
   "cell_type": "code",
   "execution_count": null,
   "metadata": {},
   "outputs": [],
   "source": [
    "import numpy as np\n",
    "import matplotlib.pyplot as plt\n",
    "from skimage.morphology import skeletonize\n",
    "%matplotlib inline\n",
    "\n",
    "width, height = 1600, 1200\n",
    "scale = 9 / np.sqrt(width * height)\n",
    "y, x = np.ogrid[-height + 1 : height : 2, -width - 1 : width : 2]\n",
    "z = ((x + y * 1j) * scale) ** (3 / 2) / (14 + 4j)\n",
    "w = (10 - 3j) / (2 * np.pi) * np.log((z + 1) / (z - 1)) + 1 / 2\n",
    "dist = np.minimum(np.abs(w.real - np.round(w.real)), np.abs(w.imag - np.round(w.imag)))\n",
    "im = (dist < 0.04).astype(np.uint8)\n",
    "plt.imshow(im)\n",
    "skeleton = skeletonize(im,method='lee')"
   ]
  },
  {
   "cell_type": "code",
   "execution_count": null,
   "metadata": {},
   "outputs": [],
   "source": [
    "import topojson as tp"
   ]
  },
  {
   "cell_type": "code",
   "execution_count": null,
   "metadata": {},
   "outputs": [],
   "source": [
    "data = tp.utils.example_data_africa()\n",
    "topo = tp.Topology(data)"
   ]
  },
  {
   "cell_type": "code",
   "execution_count": null,
   "metadata": {},
   "outputs": [],
   "source": [
    "tp.Topology(data, presimplify=10).to_alt()"
   ]
  },
  {
   "cell_type": "code",
   "execution_count": null,
   "metadata": {},
   "outputs": [],
   "source": [
    "data = tp.utils.example_data_africa()\n",
    "tp.Topology(data, toposimplify=10).to_svg()"
   ]
  },
  {
   "cell_type": "code",
   "execution_count": null,
   "metadata": {},
   "outputs": [],
   "source": [
    "data = [\n",
    "    {\"type\": \"Polygon\", \"coordinates\": [[[0, 0], [1, 0], [1, 1], [0, 1], [0, 0]]]},\n",
    "    {\"type\": \"Polygon\", \"coordinates\": [[[1, 0], [2, 0], [2, 1], [1, 1], [1, 0]]]}\n",
    "]\n",
    "\n",
    "topo = tp.Topology(data, prequantize=False)\n",
    "print(topo.to_json(style='pretty'))"
   ]
  },
  {
   "cell_type": "code",
   "execution_count": null,
   "metadata": {},
   "outputs": [],
   "source": [
    "import topojson as tp\n",
    "data = tp.utils.example_data_africa()\n",
    "\n",
    "topo = tp.Topology(data)\n",
    "topo.toposimplify(10).to_svg()"
   ]
  },
  {
   "cell_type": "code",
   "execution_count": null,
   "metadata": {},
   "outputs": [],
   "source": [
    "plt.imshow((255*dist).astype(np.uint8))"
   ]
  },
  {
   "cell_type": "code",
   "execution_count": null,
   "metadata": {},
   "outputs": [],
   "source": [
    "import imageio"
   ]
  },
  {
   "cell_type": "code",
   "execution_count": null,
   "metadata": {},
   "outputs": [],
   "source": [
    "imageio.imwrite('out_3.png', 255*(255*dist).astype(np.uint8))"
   ]
  },
  {
   "cell_type": "code",
   "execution_count": null,
   "metadata": {},
   "outputs": [],
   "source": [
    "plt.contour(skeleton, levels=[0.999])"
   ]
  },
  {
   "cell_type": "code",
   "execution_count": null,
   "metadata": {},
   "outputs": [],
   "source": [
    "plt.imshow(1-(dist > 0.5).astype(np.byte))"
   ]
  },
  {
   "cell_type": "code",
   "execution_count": null,
   "metadata": {},
   "outputs": [],
   "source": [
    "import topojson as tp\n",
    "import geopandas as gpd\n",
    "import json\n",
    "\n",
    "world = gpd.read_file(gpd.datasets.get_path(\"naturalearth_lowres\"))\n",
    "africa = world.query('continent == \"Africa\"')\n",
    "# africa.to_file('africa.geo.json', driver='GeoJSON')\n",
    "\n",
    "# with open('africa.geo.json') as f:\n",
    "#     k = json.load(f)\n",
    "k = africa.__geo_interface__\n",
    "    \n",
    "d = {}\n",
    "for i, f in enumerate(k['features']):\n",
    "    f[\"type\"] = \"GeometryCollection\"\n",
    "    f[\"geometries\"] = [f[\"geometry\"]]\n",
    "    f.pop(\"geometry\", None)\n",
    "    d[i] = f    \n",
    "    \n",
    "t = tp.Topology(d)"
   ]
  },
  {
   "cell_type": "code",
   "execution_count": null,
   "metadata": {},
   "outputs": [],
   "source": []
  },
  {
   "cell_type": "code",
   "execution_count": 1,
   "metadata": {},
   "outputs": [],
   "source": [
    "import fiona\n",
    "import topojson as tp\n",
    "\n",
    "with fiona.open('tests/files_geojson/mesh2d.geojson') as fio_col:\n",
    "    topo = tp.Topology(fio_col)"
   ]
  },
  {
   "cell_type": "code",
   "execution_count": null,
   "metadata": {},
   "outputs": [],
   "source": [
    "topo.to_svg()"
   ]
  },
  {
   "cell_type": "code",
   "execution_count": 2,
   "metadata": {},
   "outputs": [
    {
     "name": "stderr",
     "output_type": "stream",
     "text": [
      "Exception ignored in: <function Reader.__del__ at 0x000001B892250318>\n",
      "Traceback (most recent call last):\n",
      "  File \"C:\\Users\\lilei\\AppData\\Roaming\\Python\\Python37\\site-packages\\shapefile.py\", line 692, in __del__\n",
      "    self.close()\n",
      "  File \"C:\\Users\\lilei\\AppData\\Roaming\\Python\\Python37\\site-packages\\shapefile.py\", line 695, in close\n",
      "    for attribute in (self.shp, self.shx, self.dbf):\n",
      "AttributeError: 'Reader' object has no attribute 'shp'\n"
     ]
    },
    {
     "data": {
      "image/svg+xml": [
       "<svg xmlns=\"http://www.w3.org/2000/svg\" xmlns:xlink=\"http://www.w3.org/1999/xlink\" width=\"100.0\" height=\"100.0\" viewBox=\"-82.97575297975267 -57.727030541120264 50.9189635153224 72.17650775977472\" preserveAspectRatio=\"xMinYMin meet\"><g transform=\"matrix(1,0,0,-1,0,-43.27755332246581)\"><g><polyline fill=\"none\" stroke=\"#66cc99\" stroke-width=\"1.4435301551954944\" points=\"-68.63402724102814,-52.63637867677012 -66.95990668944665,-54.896837042809004\" opacity=\"0.8\" /><polyline fill=\"none\" stroke=\"#66cc99\" stroke-width=\"1.4435301551954944\" points=\"-58.42708747121122,-33.909442649351206 -68.57156806867735,-52.29946708154288\" opacity=\"0.8\" /><polyline fill=\"none\" stroke=\"#66cc99\" stroke-width=\"1.4435301551954944\" points=\"-68.63402724102814,-52.63637867677012 -66.95990668944665,-54.896837042809004\" opacity=\"0.8\" /><polyline fill=\"none\" stroke=\"#66cc99\" stroke-width=\"1.4435301551954944\" points=\"-66.95990668944665,-54.896837042809004 -71.00570191251819,-55.0538265500175 -74.66255107876859,-52.837464066367474 -68.63402724102814,-52.63637867677012\" opacity=\"0.8\" /><polyline fill=\"none\" stroke=\"#66cc99\" stroke-width=\"1.4435301551954944\" points=\"-67.10667174017226,-22.735899907860087 -73.41542159556722,-49.31843572381318 -68.57156806867735,-52.29946708154288\" opacity=\"0.8\" /><polyline fill=\"none\" stroke=\"#66cc99\" stroke-width=\"1.4435301551954944\" points=\"-68.57156806867735,-52.29946708154288 -75.6080279672534,-48.67380564068095 -70.37256756678305,-18.347951314961087\" opacity=\"0.8\" /><polyline fill=\"none\" stroke=\"#66cc99\" stroke-width=\"1.4435301551954944\" points=\"-61.19998530141202,-51.85000210750209 -58.54999853309434,-51.100031860885366 -57.749979627453335,-51.54997317933467 -59.400012785213434,-52.199979149363074 -61.19998530141202,-51.85000210750209\" opacity=\"0.8\" /><polyline fill=\"none\" stroke=\"#66cc99\" stroke-width=\"1.4435301551954944\" points=\"-53.37368295427453,-33.768376655227584 -58.42708747121122,-33.909442649351206\" opacity=\"0.8\" /><polyline fill=\"none\" stroke=\"#66cc99\" stroke-width=\"1.4435301551954944\" points=\"-58.42708747121122,-33.909442649351206 -57.62515464474333,-30.21627640088164\" opacity=\"0.8\" /><polyline fill=\"none\" stroke=\"#66cc99\" stroke-width=\"1.4435301551954944\" points=\"-53.37368295427453,-33.768376655227584 -57.62515464474333,-30.21627640088164\" opacity=\"0.8\" /><polyline fill=\"none\" stroke=\"#66cc99\" stroke-width=\"1.4435301551954944\" points=\"-57.62515464474333,-30.21627640088164 -54.62529381307057,-25.739251403589087\" opacity=\"0.8\" /><polyline fill=\"none\" stroke=\"#66cc99\" stroke-width=\"1.4435301551954944\" points=\"-54.524742948165056,2.3118542238362494 -34.729993455533034,-7.343238641690284 -53.37368295427453,-33.768376655227584\" opacity=\"0.8\" /><polyline fill=\"none\" stroke=\"#66cc99\" stroke-width=\"1.4435301551954944\" points=\"-69.52969550701798,-10.95175168384543 -58.16637410979186,-20.176705548476917\" opacity=\"0.8\" /><polyline fill=\"none\" stroke=\"#66cc99\" stroke-width=\"1.4435301551954944\" points=\"-62.685047820093146,-22.249007873149743 -67.10667174017226,-22.735899907860087\" opacity=\"0.8\" /><polyline fill=\"none\" stroke=\"#66cc99\" stroke-width=\"1.4435301551954944\" points=\"-67.10667174017226,-22.735899907860087 -69.59042748252497,-17.580016079222972\" opacity=\"0.8\" /><polyline fill=\"none\" stroke=\"#66cc99\" stroke-width=\"1.4435301551954944\" points=\"-69.89362055010218,-4.298172985615032 -73.98721711285026,-7.523841221721206 -69.52969550701798,-10.95175168384543\" opacity=\"0.8\" /><polyline fill=\"none\" stroke=\"#66cc99\" stroke-width=\"1.4435301551954944\" points=\"-69.52969550701798,-10.95175168384543 -69.59042748252497,-17.580016079222972\" opacity=\"0.8\" /><polyline fill=\"none\" stroke=\"#66cc99\" stroke-width=\"1.4435301551954944\" points=\"-69.59042748252497,-17.580016079222972 -70.37256756678305,-18.347951314961087\" opacity=\"0.8\" /><polyline fill=\"none\" stroke=\"#66cc99\" stroke-width=\"1.4435301551954944\" points=\"-70.37256756678305,-18.347951314961087 -80.3025489886499,-3.404823072033288\" opacity=\"0.8\" /><polyline fill=\"none\" stroke=\"#66cc99\" stroke-width=\"1.4435301551954944\" points=\"-66.87634770700429,1.2533488988999295 -69.89362055010218,-4.298172985615032\" opacity=\"0.8\" /><polyline fill=\"none\" stroke=\"#66cc99\" stroke-width=\"1.4435301551954944\" points=\"-69.89362055010218,-4.298172985615032 -75.37322255849077,-0.15200320464137462\" opacity=\"0.8\" /><polyline fill=\"none\" stroke=\"#66cc99\" stroke-width=\"1.4435301551954944\" points=\"-78.85525139555307,1.3809411511825118 -71.33158194404345,11.776273227551684\" opacity=\"0.8\" /><polyline fill=\"none\" stroke=\"#66cc99\" stroke-width=\"1.4435301551954944\" points=\"-60.7335954725954,5.200270618709098 -66.87634770700429,1.2533488988999295\" opacity=\"0.8\" /><polyline fill=\"none\" stroke=\"#66cc99\" stroke-width=\"1.4435301551954944\" points=\"-66.87634770700429,1.2533488988999295 -71.33158194404345,11.776273227551684\" opacity=\"0.8\" /><polyline fill=\"none\" stroke=\"#66cc99\" stroke-width=\"1.4435301551954944\" points=\"-71.33158194404345,11.776273227551684 -59.75828942780852,8.367008246561028\" opacity=\"0.8\" /><polyline fill=\"none\" stroke=\"#66cc99\" stroke-width=\"1.4435301551954944\" points=\"-56.539401363946034,1.8995441136601556 -60.7335954725954,5.200270618709098\" opacity=\"0.8\" /><polyline fill=\"none\" stroke=\"#66cc99\" stroke-width=\"1.4435301551954944\" points=\"-60.7335954725954,5.200270618709098 -59.75828942780852,8.367008246561028\" opacity=\"0.8\" /><polyline fill=\"none\" stroke=\"#66cc99\" stroke-width=\"1.4435301551954944\" points=\"-59.75828942780852,8.367008246561028 -57.14742133395269,5.97317344613608\" opacity=\"0.8\" /><polyline fill=\"none\" stroke=\"#66cc99\" stroke-width=\"1.4435301551954944\" points=\"-54.524742948165056,2.3118542238362494 -56.539401363946034,1.8995441136601556\" opacity=\"0.8\" /><polyline fill=\"none\" stroke=\"#66cc99\" stroke-width=\"1.4435301551954944\" points=\"-56.539401363946034,1.8995441136601556 -57.14742133395269,5.97317344613608\" opacity=\"0.8\" /><polyline fill=\"none\" stroke=\"#66cc99\" stroke-width=\"1.4435301551954944\" points=\"-57.14742133395269,5.97317344613608 -54.524742948165056,2.3118542238362494\" opacity=\"0.8\" /><polyline fill=\"none\" stroke=\"#66cc99\" stroke-width=\"1.4435301551954944\" points=\"-75.37322255849077,-0.15200320464137462 -80.3025489886499,-3.404823072033288\" opacity=\"0.8\" /><polyline fill=\"none\" stroke=\"#66cc99\" stroke-width=\"1.4435301551954944\" points=\"-80.3025489886499,-3.404823072033288 -78.85525139555307,1.3809411511825118\" opacity=\"0.8\" /><polyline fill=\"none\" stroke=\"#66cc99\" stroke-width=\"1.4435301551954944\" points=\"-78.85525139555307,1.3809411511825118 -75.37322255849077,-0.15200320464137462\" opacity=\"0.8\" /><polyline fill=\"none\" stroke=\"#66cc99\" stroke-width=\"1.4435301551954944\" points=\"-58.16637410979186,-20.176705548476917 -54.62529381307057,-25.739251403589087\" opacity=\"0.8\" /><polyline fill=\"none\" stroke=\"#66cc99\" stroke-width=\"1.4435301551954944\" points=\"-54.62529381307057,-25.739251403589087 -62.685047820093146,-22.249007873149743\" opacity=\"0.8\" /><polyline fill=\"none\" stroke=\"#66cc99\" stroke-width=\"1.4435301551954944\" points=\"-62.685047820093146,-22.249007873149743 -58.16637410979186,-20.176705548476917\" opacity=\"0.8\" /></g></g></svg>"
      ],
      "text/plain": [
       "<shapely.geometry.multilinestring.MultiLineString at 0x1b89221bcc8>"
      ]
     },
     "metadata": {},
     "output_type": "display_data"
    }
   ],
   "source": [
    "import shapefile\n",
    "\n",
    "data = shapefile.Reader(\"tests/files_shapefile/southamerica.shp\")\n",
    "topo = tp.Topology(data)\n",
    "topo.toposimplify(4).to_svg()"
   ]
  },
  {
   "cell_type": "code",
   "execution_count": 20,
   "metadata": {},
   "outputs": [],
   "source": [
    "from IPython.display import SVG, display\n",
    "from topojson.core.extract import Extract\n",
    "from shapely import geometry\n",
    "from shapely.ops import linemerge\n",
    "from shapely.ops import shared_paths\n",
    "data = [\n",
    "    {\n",
    "        \"type\": \"LineString\",\n",
    "        \"coordinates\": [(0, 0), (10, 0), (10, 5), (20, 5)],\n",
    "    },\n",
    "    {\n",
    "        \"type\": \"LineString\",\n",
    "        \"coordinates\": [(5, 0), (25, 0), (25, 5), (16, 5), (16, 10), (14, 10), (14, 5), (0, 5)],\n",
    "    }\n",
    "]"
   ]
  },
  {
   "cell_type": "code",
   "execution_count": 38,
   "metadata": {},
   "outputs": [
    {
     "data": {
      "image/svg+xml": [
       "<svg xmlns=\"http://www.w3.org/2000/svg\" xmlns:xlink=\"http://www.w3.org/1999/xlink\" width=\"100.0\" height=\"100.0\" viewBox=\"-1.0 -1.0 27.0 12.0\" preserveAspectRatio=\"xMinYMin meet\"><g transform=\"matrix(1,0,0,-1,0,10.0)\"><g><polyline fill=\"none\" stroke=\"#66cc99\" stroke-width=\"0.54\" points=\"0.0,0.0 5.000005000005,0.0\" opacity=\"0.8\" /><polyline fill=\"none\" stroke=\"#66cc99\" stroke-width=\"0.54\" points=\"10.00001000001,0.0 10.00001000001,5.000005000005\" opacity=\"0.8\" /><polyline fill=\"none\" stroke=\"#66cc99\" stroke-width=\"0.54\" points=\"13.999988999989,5.000005000005 15.999990999991,5.000005000005\" opacity=\"0.8\" /><polyline fill=\"none\" stroke=\"#66cc99\" stroke-width=\"0.54\" points=\"5.000005000005,0.0 10.00001000001,0.0\" opacity=\"0.8\" /><polyline fill=\"none\" stroke=\"#66cc99\" stroke-width=\"0.54\" points=\"10.00001000001,0.0 25.0,0.0 25.0,5.000005000005 19.999994999995,5.000005000005\" opacity=\"0.8\" /><polyline fill=\"none\" stroke=\"#66cc99\" stroke-width=\"0.54\" points=\"19.999994999995,5.000005000005 15.999990999991,5.000005000005\" opacity=\"0.8\" /><polyline fill=\"none\" stroke=\"#66cc99\" stroke-width=\"0.54\" points=\"15.999990999991,5.000005000005 15.999990999991,10.0 13.999988999989,10.0 13.999988999989,5.000005000005\" opacity=\"0.8\" /><polyline fill=\"none\" stroke=\"#66cc99\" stroke-width=\"0.54\" points=\"13.999988999989,5.000005000005 10.00001000001,5.000005000005\" opacity=\"0.8\" /><polyline fill=\"none\" stroke=\"#66cc99\" stroke-width=\"0.54\" points=\"10.00001000001,5.000005000005 0.0,5.000005000005\" opacity=\"0.8\" /></g></g></svg>"
      ],
      "text/plain": [
       "<shapely.geometry.multilinestring.MultiLineString at 0x1b8947744c8>"
      ]
     },
     "metadata": {},
     "output_type": "display_data"
    }
   ],
   "source": [
    "from shapely import geometry\n",
    "data = geometry.MultiLineString([\n",
    "    [(0, 0), (10, 0), (10, 5), (20, 5)], \n",
    "    [(5, 0), (25, 0), (25, 5), (16, 5), (16, 10), (14, 10), (14, 5), (0, 5)]\n",
    "])\n",
    "\n",
    "tp.Topology(data, shared_coords=False).to_svg()"
   ]
  },
  {
   "cell_type": "code",
   "execution_count": 40,
   "metadata": {},
   "outputs": [
    {
     "ename": "ValueError",
     "evalue": "A LinearRing must have at least 3 coordinate tuples",
     "output_type": "error",
     "traceback": [
      "\u001b[1;31m---------------------------------------------------------------------------\u001b[0m",
      "\u001b[1;31mAttributeError\u001b[0m                            Traceback (most recent call last)",
      "\u001b[1;32mc:\\python37\\lib\\site-packages\\shapely\\speedups\\_speedups.pyx\u001b[0m in \u001b[0;36mshapely.speedups._speedups.geos_linearring_from_py\u001b[1;34m()\u001b[0m\n",
      "\u001b[1;31mAttributeError\u001b[0m: 'list' object has no attribute '__array_interface__'",
      "\nDuring handling of the above exception, another exception occurred:\n",
      "\u001b[1;31mValueError\u001b[0m                                Traceback (most recent call last)",
      "\u001b[1;32m<ipython-input-40-c6875f39a199>\u001b[0m in \u001b[0;36m<module>\u001b[1;34m\u001b[0m\n\u001b[0;32m      1\u001b[0m data = geometry.Polygon([\n\u001b[1;32m----> 2\u001b[1;33m     \u001b[1;33m[\u001b[0m\u001b[1;33m[\u001b[0m\u001b[1;36m0\u001b[0m\u001b[1;33m,\u001b[0m \u001b[1;36m0\u001b[0m\u001b[1;33m]\u001b[0m\u001b[1;33m,\u001b[0m \u001b[1;33m[\u001b[0m\u001b[1;36m1\u001b[0m\u001b[1;33m,\u001b[0m \u001b[1;36m0\u001b[0m\u001b[1;33m]\u001b[0m\u001b[1;33m,\u001b[0m \u001b[1;33m[\u001b[0m\u001b[1;36m1\u001b[0m\u001b[1;33m,\u001b[0m \u001b[1;36m1\u001b[0m\u001b[1;33m]\u001b[0m\u001b[1;33m,\u001b[0m \u001b[1;33m[\u001b[0m\u001b[1;36m0\u001b[0m\u001b[1;33m,\u001b[0m \u001b[1;36m1\u001b[0m\u001b[1;33m]\u001b[0m\u001b[1;33m,\u001b[0m \u001b[1;33m[\u001b[0m\u001b[1;36m0\u001b[0m\u001b[1;33m,\u001b[0m \u001b[1;36m0\u001b[0m\u001b[1;33m]\u001b[0m\u001b[1;33m]\u001b[0m\u001b[1;33m,\u001b[0m\u001b[1;33m\u001b[0m\u001b[1;33m\u001b[0m\u001b[0m\n\u001b[0m\u001b[0;32m      3\u001b[0m ])\n",
      "\u001b[1;32mc:\\python37\\lib\\site-packages\\shapely\\geometry\\polygon.py\u001b[0m in \u001b[0;36m__init__\u001b[1;34m(self, shell, holes)\u001b[0m\n\u001b[0;32m    238\u001b[0m \u001b[1;33m\u001b[0m\u001b[0m\n\u001b[0;32m    239\u001b[0m         \u001b[1;32mif\u001b[0m \u001b[0mshell\u001b[0m \u001b[1;32mis\u001b[0m \u001b[1;32mnot\u001b[0m \u001b[1;32mNone\u001b[0m\u001b[1;33m:\u001b[0m\u001b[1;33m\u001b[0m\u001b[1;33m\u001b[0m\u001b[0m\n\u001b[1;32m--> 240\u001b[1;33m             \u001b[0mret\u001b[0m \u001b[1;33m=\u001b[0m \u001b[0mgeos_polygon_from_py\u001b[0m\u001b[1;33m(\u001b[0m\u001b[0mshell\u001b[0m\u001b[1;33m,\u001b[0m \u001b[0mholes\u001b[0m\u001b[1;33m)\u001b[0m\u001b[1;33m\u001b[0m\u001b[1;33m\u001b[0m\u001b[0m\n\u001b[0m\u001b[0;32m    241\u001b[0m             \u001b[1;32mif\u001b[0m \u001b[0mret\u001b[0m \u001b[1;32mis\u001b[0m \u001b[1;32mnot\u001b[0m \u001b[1;32mNone\u001b[0m\u001b[1;33m:\u001b[0m\u001b[1;33m\u001b[0m\u001b[1;33m\u001b[0m\u001b[0m\n\u001b[0;32m    242\u001b[0m                 \u001b[0mself\u001b[0m\u001b[1;33m.\u001b[0m\u001b[0m_geom\u001b[0m\u001b[1;33m,\u001b[0m \u001b[0mself\u001b[0m\u001b[1;33m.\u001b[0m\u001b[0m_ndim\u001b[0m \u001b[1;33m=\u001b[0m \u001b[0mret\u001b[0m\u001b[1;33m\u001b[0m\u001b[1;33m\u001b[0m\u001b[0m\n",
      "\u001b[1;32mc:\\python37\\lib\\site-packages\\shapely\\geometry\\polygon.py\u001b[0m in \u001b[0;36mgeos_polygon_from_py\u001b[1;34m(shell, holes)\u001b[0m\n\u001b[0;32m    492\u001b[0m \u001b[1;33m\u001b[0m\u001b[0m\n\u001b[0;32m    493\u001b[0m     \u001b[1;32mif\u001b[0m \u001b[0mshell\u001b[0m \u001b[1;32mis\u001b[0m \u001b[1;32mnot\u001b[0m \u001b[1;32mNone\u001b[0m\u001b[1;33m:\u001b[0m\u001b[1;33m\u001b[0m\u001b[1;33m\u001b[0m\u001b[0m\n\u001b[1;32m--> 494\u001b[1;33m         \u001b[0mret\u001b[0m \u001b[1;33m=\u001b[0m \u001b[0mgeos_linearring_from_py\u001b[0m\u001b[1;33m(\u001b[0m\u001b[0mshell\u001b[0m\u001b[1;33m)\u001b[0m\u001b[1;33m\u001b[0m\u001b[1;33m\u001b[0m\u001b[0m\n\u001b[0m\u001b[0;32m    495\u001b[0m         \u001b[1;32mif\u001b[0m \u001b[0mret\u001b[0m \u001b[1;32mis\u001b[0m \u001b[1;32mNone\u001b[0m\u001b[1;33m:\u001b[0m\u001b[1;33m\u001b[0m\u001b[1;33m\u001b[0m\u001b[0m\n\u001b[0;32m    496\u001b[0m             \u001b[1;32mreturn\u001b[0m \u001b[1;32mNone\u001b[0m\u001b[1;33m\u001b[0m\u001b[1;33m\u001b[0m\u001b[0m\n",
      "\u001b[1;32mc:\\python37\\lib\\site-packages\\shapely\\speedups\\_speedups.pyx\u001b[0m in \u001b[0;36mshapely.speedups._speedups.geos_linearring_from_py\u001b[1;34m()\u001b[0m\n",
      "\u001b[1;31mValueError\u001b[0m: A LinearRing must have at least 3 coordinate tuples"
     ]
    }
   ],
   "source": [
    "data = geometry.Polygon([\n",
    "    [[0, 0], [1, 0], [1, 1], [0, 1], [0, 0]], \n",
    "])"
   ]
  },
  {
   "cell_type": "code",
   "execution_count": 36,
   "metadata": {},
   "outputs": [
    {
     "name": "stdout",
     "output_type": "stream",
     "text": [
      "{\n",
      "    \"type\": \"Topology\",\n",
      "    \"objects\": {\n",
      "        \"data\": {\n",
      "            \"geometries\": [{\"type\": \"Polygon\", \"arcs\": [[0]]}, {\"type\": \"Polygon\", \"arcs\": [[1]]}],\n",
      "            \"type\": \"GeometryCollection\"\n",
      "        }\n",
      "    },\n",
      "    \"bbox\": [0.0, 0.0, 2.0, 1.0],\n",
      "    \"arcs\": [\n",
      "        [[0.0, 0.0], [0.0, 1.0], [1.0, 1.0], [1.0, 0.0], [0.0, 0.0]],\n",
      "        [[1.0, 0.0], [1.0, 1.0], [2.0, 1.0], [2.0, 0.0], [1.0, 0.0]]\n",
      "    ]\n",
      "}\n"
     ]
    }
   ],
   "source": [
    "import topojson as tp\n",
    "\n",
    "data = [\n",
    "    {\"type\": \"Polygon\", \"coordinates\": [[[0, 0], [1, 0], [1, 1], [0, 1], [0, 0]]]},\n",
    "    {\"type\": \"Polygon\", \"coordinates\": [[[1, 0], [2, 0], [2, 1], [1, 1], [1, 0]]]}\n",
    "]\n",
    "\n",
    "topo = tp.Topology(data, topology=False, prequantize=False)\n",
    "print(topo.to_json(style='pretty'))"
   ]
  },
  {
   "cell_type": "code",
   "execution_count": 37,
   "metadata": {},
   "outputs": [
    {
     "data": {
      "image/svg+xml": [
       "<svg xmlns=\"http://www.w3.org/2000/svg\" xmlns:xlink=\"http://www.w3.org/1999/xlink\" width=\"100.0\" height=\"100.0\" viewBox=\"-0.08 -0.08 2.16 1.1600000000000001\" preserveAspectRatio=\"xMinYMin meet\"><g transform=\"matrix(1,0,0,-1,0,1.0)\"><g><polyline fill=\"none\" stroke=\"#66cc99\" stroke-width=\"0.0432\" points=\"0.0,0.0 0.0,1.0 1.0,1.0 1.0,0.0 0.0,0.0\" opacity=\"0.8\" /><polyline fill=\"none\" stroke=\"#66cc99\" stroke-width=\"0.0432\" points=\"1.0,0.0 1.0,1.0 2.0,1.0 2.0,0.0 1.0,0.0\" opacity=\"0.8\" /></g></g></svg>"
      ],
      "text/plain": [
       "<shapely.geometry.multilinestring.MultiLineString at 0x1b8947dda48>"
      ]
     },
     "metadata": {},
     "output_type": "display_data"
    }
   ],
   "source": [
    "topo = tp.Topology(data, topology=False, prequantize=False).to_svg()"
   ]
  },
  {
   "cell_type": "code",
   "execution_count": 4,
   "metadata": {},
   "outputs": [],
   "source": [
    "ex = Extract(data).output\n",
    "lines = geometry.MultiLineString(ex['linestrings'])"
   ]
  },
  {
   "cell_type": "code",
   "execution_count": 9,
   "metadata": {},
   "outputs": [
    {
     "data": {
      "image/svg+xml": [
       "<svg xmlns=\"http://www.w3.org/2000/svg\" xmlns:xlink=\"http://www.w3.org/1999/xlink\" width=\"100.0\" height=\"100.0\" viewBox=\"-1.0 -1.0 27.0 12.0\" preserveAspectRatio=\"xMinYMin meet\"><g transform=\"matrix(1,0,0,-1,0,10.0)\"><g><polyline fill=\"none\" stroke=\"#66cc99\" stroke-width=\"0.54\" points=\"0.0,0.0 10.00001000001,0.0 10.00001000001,5.000005000005 19.999994999995,5.000005000005\" opacity=\"0.8\" /><polyline fill=\"none\" stroke=\"#66cc99\" stroke-width=\"0.54\" points=\"5.000005000005,0.0 25.0,0.0 25.0,5.000005000005 15.999990999991,5.000005000005 15.999990999991,10.0 13.999988999989,10.0 13.999988999989,5.000005000005 0.0,5.000005000005\" opacity=\"0.8\" /></g></g></svg>"
      ],
      "text/plain": [
       "<shapely.geometry.multilinestring.MultiLineString at 0x1b89079e9c8>"
      ]
     },
     "metadata": {},
     "output_type": "display_data"
    }
   ],
   "source": [
    "tp.Topology(lines).to_svg()"
   ]
  },
  {
   "cell_type": "code",
   "execution_count": null,
   "metadata": {},
   "outputs": [],
   "source": [
    "with open('topojson/africa.pickle', 'wb') as f:\n",
    "    f.write(p)"
   ]
  },
  {
   "cell_type": "code",
   "execution_count": null,
   "metadata": {},
   "outputs": [],
   "source": [
    "z = pickle.loads(p)"
   ]
  },
  {
   "cell_type": "code",
   "execution_count": null,
   "metadata": {},
   "outputs": [],
   "source": [
    "tj = tp.Topology(z)"
   ]
  },
  {
   "cell_type": "code",
   "execution_count": null,
   "metadata": {},
   "outputs": [],
   "source": [
    "tj.to_alt()"
   ]
  },
  {
   "cell_type": "code",
   "execution_count": null,
   "metadata": {},
   "outputs": [],
   "source": [
    "gdf = gpd.read_file('escher.geo.json')"
   ]
  },
  {
   "cell_type": "code",
   "execution_count": null,
   "metadata": {},
   "outputs": [],
   "source": [
    "gdf.geometry.plot()"
   ]
  },
  {
   "cell_type": "code",
   "execution_count": null,
   "metadata": {},
   "outputs": [],
   "source": [
    "topo = tp.Topology(gdf)"
   ]
  },
  {
   "cell_type": "code",
   "execution_count": null,
   "metadata": {},
   "outputs": [],
   "source": []
  },
  {
   "cell_type": "code",
   "execution_count": null,
   "metadata": {},
   "outputs": [],
   "source": [
    "topo.toposimplify(15).to_svg() # topoquantize(1250)#"
   ]
  },
  {
   "cell_type": "code",
   "execution_count": null,
   "metadata": {},
   "outputs": [],
   "source": [
    "gdf.to_file('out_2.geo.json', driver='GeoJSON')"
   ]
  },
  {
   "cell_type": "code",
   "execution_count": null,
   "metadata": {},
   "outputs": [],
   "source": [
    "import topojson as tp"
   ]
  },
  {
   "cell_type": "code",
   "execution_count": null,
   "metadata": {},
   "outputs": [],
   "source": [
    "topo = tp.Topology(gdf.geometry)"
   ]
  },
  {
   "cell_type": "code",
   "execution_count": null,
   "metadata": {},
   "outputs": [],
   "source": [
    "topo.toposimplify(3, )\n",
    ".topoquantize(3000).to_json('out_2.topo.json')"
   ]
  },
  {
   "cell_type": "code",
   "execution_count": null,
   "metadata": {},
   "outputs": [],
   "source": [
    "topo"
   ]
  }
 ],
 "metadata": {
  "kernelspec": {
   "display_name": "Python 3",
   "language": "python",
   "name": "python3"
  },
  "language_info": {
   "codemirror_mode": {
    "name": "ipython",
    "version": 3
   },
   "file_extension": ".py",
   "mimetype": "text/x-python",
   "name": "python",
   "nbconvert_exporter": "python",
   "pygments_lexer": "ipython3",
   "version": "3.7.4"
  }
 },
 "nbformat": 4,
 "nbformat_minor": 4
}
