{
 "cells": [
  {
   "cell_type": "code",
   "execution_count": null,
   "metadata": {},
   "outputs": [],
   "source": [
    "import numpy as np\n",
    "import matplotlib.pyplot as plt\n",
    "from skimage.morphology import skeletonize\n",
    "%matplotlib inline\n",
    "\n",
    "width, height = 1600, 1200\n",
    "scale = 9 / np.sqrt(width * height)\n",
    "y, x = np.ogrid[-height + 1 : height : 2, -width - 1 : width : 2]\n",
    "z = ((x + y * 1j) * scale) ** (3 / 2) / (14 + 4j)\n",
    "w = (10 - 3j) / (2 * np.pi) * np.log((z + 1) / (z - 1)) + 1 / 2\n",
    "dist = np.minimum(np.abs(w.real - np.round(w.real)), np.abs(w.imag - np.round(w.imag)))\n",
    "im = (dist < 0.04).astype(np.uint8)\n",
    "plt.imshow(im)\n",
    "skeleton = skeletonize(im,method='lee')"
   ]
  },
  {
   "cell_type": "code",
   "execution_count": null,
   "metadata": {},
   "outputs": [],
   "source": [
    "import topojson as tp"
   ]
  },
  {
   "cell_type": "code",
   "execution_count": null,
   "metadata": {},
   "outputs": [],
   "source": [
    "data = tp.utils.example_data_africa()\n",
    "topo = tp.Topology(data)"
   ]
  },
  {
   "cell_type": "code",
   "execution_count": 39,
   "metadata": {},
   "outputs": [
    {
     "data": {
      "image/svg+xml": [
       "<svg xmlns=\"http://www.w3.org/2000/svg\" xmlns:xlink=\"http://www.w3.org/1999/xlink\" width=\"100.0\" height=\"100.0\" viewBox=\"-0.08 -0.08 2.16 1.1600000000000001\" preserveAspectRatio=\"xMinYMin meet\"><g transform=\"matrix(1,0,0,-1,0,1.0)\"><g><polyline fill=\"none\" stroke=\"#66cc99\" stroke-width=\"0.0432\" points=\"0.0,0.0 0.97,0.0 0.97,1.0 0.0,1.0 0.0,0.0\" opacity=\"0.8\" /><polyline fill=\"none\" stroke=\"#66cc99\" stroke-width=\"0.0432\" points=\"1.03,0.0 2.0,0.0 2.0,1.0 1.03,1.0 1.01,0.0\" opacity=\"0.8\" /></g></g></svg>"
      ],
      "text/plain": [
       "<shapely.geometry.multilinestring.MultiLineString at 0x1eda5929988>"
      ]
     },
     "execution_count": 39,
     "metadata": {},
     "output_type": "execute_result"
    }
   ],
   "source": [
    "import topojson as tp\n",
    "from shapely import geometry\n",
    "\n",
    "data = geometry.MultiLineString([\n",
    "    [[0, 0], [0.97, 0], [0.97, 1], [0, 1], [0, 0]], \n",
    "    [[1.03, 0], [2, 0], [2, 1], [1.03, 1], [1.01, 0]]\n",
    "])\n",
    "data"
   ]
  },
  {
   "cell_type": "code",
   "execution_count": 40,
   "metadata": {},
   "outputs": [
    {
     "data": {
      "image/svg+xml": [
       "<svg xmlns=\"http://www.w3.org/2000/svg\" xmlns:xlink=\"http://www.w3.org/1999/xlink\" width=\"100.0\" height=\"100.0\" viewBox=\"-0.08 -0.08 2.16 1.1600000000000001\" preserveAspectRatio=\"xMinYMin meet\"><g transform=\"matrix(1,0,0,-1,0,1.0)\"><g><polyline fill=\"none\" stroke=\"#66cc99\" stroke-width=\"0.0432\" points=\"1.0,1.0 0.0,1.0 0.0,0.0 1.0,0.0\" opacity=\"0.8\" /><polyline fill=\"none\" stroke=\"#66cc99\" stroke-width=\"0.0432\" points=\"1.0,0.0 2.0,0.0 2.0,1.0 1.0,1.0\" opacity=\"0.8\" /><polyline fill=\"none\" stroke=\"#66cc99\" stroke-width=\"0.0432\" points=\"1.0,1.0 1.0,0.0\" opacity=\"0.8\" /></g></g></svg>"
      ],
      "text/plain": [
       "<shapely.geometry.multilinestring.MultiLineString at 0x1eda58e5588>"
      ]
     },
     "metadata": {},
     "output_type": "display_data"
    }
   ],
   "source": [
    "toy = tp.Topology(data, prequantize=33)\n",
    "geometry.MultiLineString(toy.output['arcs'])\n",
    "toy.to_svg()"
   ]
  },
  {
   "cell_type": "code",
   "execution_count": 6,
   "metadata": {},
   "outputs": [
    {
     "name": "stdout",
     "output_type": "stream",
     "text": [
      "{\n",
      "    \"type\": \"Topology\",\n",
      "    \"objects\": {\n",
      "        \"data\": {\n",
      "            \"geometries\": [{\"type\": \"MultiLineString\", \"arcs\": [[0], [1]]}],\n",
      "            \"type\": \"GeometryCollection\"\n",
      "        }\n",
      "    },\n",
      "    \"bbox\": [0.0, 0.0, 2.0, 2.0],\n",
      "    \"transform\": {\n",
      "        \"scale\": [0.15384615384615385, 0.15384615384615385], \"translate\": [0.0, 0.0]\n",
      "    },\n",
      "    \"arcs\": [\n",
      "        [[0, 0], [6, 0], [0, 13], [-6, 0], [0, -13]],\n",
      "        [[7, 0], [6, 0], [0, 13], [-6, 0], [0, -13]]\n",
      "    ]\n",
      "}\n"
     ]
    }
   ],
   "source": [
    "print(toy.to_json(style='pretty'))"
   ]
  },
  {
   "cell_type": "code",
   "execution_count": null,
   "metadata": {},
   "outputs": [],
   "source": []
  },
  {
   "cell_type": "code",
   "execution_count": null,
   "metadata": {},
   "outputs": [],
   "source": [
    "tp.Topology(data, prequantize=50).to_svg()"
   ]
  },
  {
   "cell_type": "code",
   "execution_count": null,
   "metadata": {},
   "outputs": [],
   "source": [
    "from shapely import geometry"
   ]
  },
  {
   "cell_type": "code",
   "execution_count": null,
   "metadata": {},
   "outputs": [],
   "source": [
    "ky"
   ]
  },
  {
   "cell_type": "code",
   "execution_count": null,
   "metadata": {},
   "outputs": [],
   "source": [
    "from topojson.core.extract import Extract\n",
    "from topojson.ops import bounds\n",
    "import numpy as np"
   ]
  },
  {
   "cell_type": "code",
   "execution_count": null,
   "metadata": {},
   "outputs": [],
   "source": [
    "e = Extract(data)"
   ]
  },
  {
   "cell_type": "code",
   "execution_count": null,
   "metadata": {},
   "outputs": [],
   "source": [
    "ls = e.output[\"linestrings\"]\n",
    "bbox = bounds(ls)"
   ]
  },
  {
   "cell_type": "code",
   "execution_count": null,
   "metadata": {},
   "outputs": [],
   "source": [
    "bbox"
   ]
  },
  {
   "cell_type": "code",
   "execution_count": null,
   "metadata": {},
   "outputs": [],
   "source": [
    "ls = [np.asarray(l.coords).T for l in ls]"
   ]
  },
  {
   "cell_type": "code",
   "execution_count": null,
   "metadata": {},
   "outputs": [],
   "source": [
    "for l in ls:\n",
    "    l = [l[0]-x0, l[1]-y0]"
   ]
  },
  {
   "cell_type": "code",
   "execution_count": null,
   "metadata": {},
   "outputs": [],
   "source": [
    "y0"
   ]
  },
  {
   "cell_type": "code",
   "execution_count": null,
   "metadata": {},
   "outputs": [],
   "source": [
    "ls"
   ]
  },
  {
   "cell_type": "code",
   "execution_count": null,
   "metadata": {},
   "outputs": [],
   "source": [
    "quantize(ls, bbox, quant_factor=3)"
   ]
  },
  {
   "cell_type": "code",
   "execution_count": null,
   "metadata": {},
   "outputs": [],
   "source": [
    "quantize(ls, bbox, quant_factor=3)"
   ]
  },
  {
   "cell_type": "code",
   "execution_count": null,
   "metadata": {},
   "outputs": [],
   "source": [
    "\n",
    "quant_factor = 3\n",
    "topo = tp.Topology(data, prequantize=quant_factor)\n",
    "topo"
   ]
  },
  {
   "cell_type": "code",
   "execution_count": null,
   "metadata": {},
   "outputs": [],
   "source": [
    "x0, y0, x1, y1 = bbox\n",
    "kx = 1 / ((- 1) / (x1 - x0))\n",
    "ky = 1 / ((quant_factor - 1) / (y1 - y0))\n",
    "\n",
    "kx, ky"
   ]
  },
  {
   "cell_type": "code",
   "execution_count": null,
   "metadata": {},
   "outputs": [],
   "source": [
    "kx = (x1 - x0) / (quant_factor - 1)\n",
    "ky = (y1 - y0) / (quant_factor - 1)\n"
   ]
  },
  {
   "cell_type": "code",
   "execution_count": null,
   "metadata": {},
   "outputs": [],
   "source": [
    "kx, ky"
   ]
  },
  {
   "cell_type": "code",
   "execution_count": null,
   "metadata": {},
   "outputs": [],
   "source": [
    "kx, ky"
   ]
  },
  {
   "cell_type": "code",
   "execution_count": null,
   "metadata": {},
   "outputs": [],
   "source": [
    "ls"
   ]
  },
  {
   "cell_type": "code",
   "execution_count": null,
   "metadata": {},
   "outputs": [],
   "source": [
    "def quantize(linestrings, bbox, quant_factor=1e6):\n",
    "    \"\"\"\n",
    "    Function that applies quantization. Quantization removes information by reducing\n",
    "    the precision of each coordinate, effectively snapping each point to a regular grid.\n",
    "\n",
    "    Parameters\n",
    "    ----------\n",
    "    linestrings : list of shapely.geometry.LineStrings\n",
    "        LineStrings that will be quantized\n",
    "    quant_factor : int\n",
    "        Quantization factor. Normally this varies between 1e4, 1e5, 1e6. Where a\n",
    "        higher number means a bigger grid where the coordinates can snap to.\n",
    "\n",
    "    Returns\n",
    "    -------\n",
    "    dict\n",
    "        `transform`, scale (`kx`, `ky`) and translation (`x0`, `y0`) values\n",
    "    array\n",
    "        `bbox`, bounding box of all linestrings\n",
    "    \"\"\"\n",
    "\n",
    "    x0, y0, x1, y1 = bbox\n",
    "    try:\n",
    "#         kx = 1 / ((quant_factor - 1) / (x1 - x0))\n",
    "#         ky = 1 / ((quant_factor - 1) / (y1 - y0))\n",
    "        \n",
    "#         kx = (x1 - x0) / (quant_factor - 1)\n",
    "#         ky = (y1 - y0) / (quant_factor - 1)     \n",
    "        \n",
    "        kx = (quant_factor - 1) / (x1 - x0)\n",
    "        ky = (quant_factor - 1) / (y1 - y0)\n",
    "    except ZeroDivisionError:\n",
    "        # ZeroDivisionError: float division by zero\n",
    "        raise SystemExit(\"Cannot quantize when xmax-xmin OR ymax-ymin equals 0\")\n",
    "\n",
    "    quant = []\n",
    "    for idx, ls in enumerate(linestrings):\n",
    "        if hasattr(ls, \"coords\"):\n",
    "            ls_xy = np.asarray(ls.coords).T\n",
    "        else:\n",
    "            ls_xy = np.asarray(ls).T\n",
    "        ls_xy = (\n",
    "            np.array([(ls_xy[0] - x0) * kx, (ls_xy[1] - y0) * ky])\n",
    "            .round()\n",
    "            .astype(np.int64)\n",
    "            .T\n",
    "        )\n",
    "        quant.append(ls_xy)\n",
    "    return quant"
   ]
  },
  {
   "cell_type": "code",
   "execution_count": null,
   "metadata": {},
   "outputs": [],
   "source": [
    "topo"
   ]
  },
  {
   "cell_type": "code",
   "execution_count": null,
   "metadata": {},
   "outputs": [],
   "source": [
    "import geopandas as gpd"
   ]
  },
  {
   "cell_type": "code",
   "execution_count": null,
   "metadata": {},
   "outputs": [],
   "source": [
    "gdf = gpd.read_file(r\"C:\\Users\\lilei\\Downloads\\out_5.json\")"
   ]
  },
  {
   "cell_type": "code",
   "execution_count": null,
   "metadata": {},
   "outputs": [],
   "source": [
    "topo = tp.Topology(gdf)"
   ]
  },
  {
   "cell_type": "code",
   "execution_count": null,
   "metadata": {},
   "outputs": [],
   "source": [
    "topo.to_alt()"
   ]
  },
  {
   "cell_type": "code",
   "execution_count": null,
   "metadata": {},
   "outputs": [],
   "source": []
  }
 ],
 "metadata": {
  "kernelspec": {
   "display_name": "Python 3",
   "language": "python",
   "name": "python3"
  },
  "language_info": {
   "codemirror_mode": {
    "name": "ipython",
    "version": 3
   },
   "file_extension": ".py",
   "mimetype": "text/x-python",
   "name": "python",
   "nbconvert_exporter": "python",
   "pygments_lexer": "ipython3",
   "version": "3.7.4"
  }
 },
 "nbformat": 4,
 "nbformat_minor": 4
}
